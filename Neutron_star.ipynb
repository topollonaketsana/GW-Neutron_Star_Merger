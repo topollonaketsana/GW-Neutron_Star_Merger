{
 "cells": [
  {
   "cell_type": "markdown",
   "id": "218648ab-561f-4805-b72c-bb2b40573ae6",
   "metadata": {},
   "source": [
    "## Studying the binary system of Neutron Star"
   ]
  },
  {
   "cell_type": "markdown",
   "id": "a69e9d9a-e18e-42ce-a7c0-9cf088a07d3e",
   "metadata": {},
   "source": [
    "### "
   ]
  },
  {
   "cell_type": "markdown",
   "id": "0de9e10e-2646-4601-94f0-a0527fb3be15",
   "metadata": {},
   "source": [
    "###"
   ]
  },
  {
   "cell_type": "code",
   "execution_count": null,
   "id": "5add27bf-b6c1-451f-9495-ee18395b9edb",
   "metadata": {},
   "outputs": [],
   "source": []
  },
  {
   "cell_type": "code",
   "execution_count": null,
   "id": "644eb980-f916-485c-964d-084535a7b6ae",
   "metadata": {},
   "outputs": [],
   "source": []
  },
  {
   "cell_type": "code",
   "execution_count": 1,
   "id": "f390749d-3d45-4439-9e3f-fa0bfa75b14b",
   "metadata": {
    "tags": []
   },
   "outputs": [
    {
     "name": "stdout",
     "output_type": "stream",
     "text": [
      "Defaulting to user installation because normal site-packages is not writeable\n",
      "Collecting gwosc\n",
      "  Downloading gwosc-0.8.1-py3-none-any.whl.metadata (6.2 kB)\n",
      "Collecting pycbc\n",
      "  Downloading pycbc-2.9.0-cp311-cp311-manylinux_2_24_x86_64.manylinux_2_28_x86_64.whl.metadata (4.6 kB)\n",
      "Requirement already satisfied: requests>=1.0.0 in /opt/miniconda/lib/python3.11/site-packages (from gwosc) (2.31.0)\n",
      "Requirement already satisfied: numpy>=1.16.0 in /opt/miniconda/lib/python3.11/site-packages (from pycbc) (1.26.4)\n",
      "Collecting cython>=0.29 (from pycbc)\n",
      "  Downloading cython-3.1.2-cp311-cp311-manylinux_2_17_x86_64.manylinux2014_x86_64.whl.metadata (5.9 kB)\n",
      "Requirement already satisfied: scipy>=0.16.0 in /home/tnaketsa/.local/lib/python3.11/site-packages (from pycbc) (1.14.1)\n",
      "Requirement already satisfied: astropy!=4.0.5,!=4.2.1,>=2.0.3 in /opt/miniconda/lib/python3.11/site-packages (from pycbc) (5.3.1)\n",
      "Requirement already satisfied: matplotlib>=1.5.1 in /opt/miniconda/lib/python3.11/site-packages (from pycbc) (3.5.1)\n",
      "Collecting mpld3>=0.3 (from pycbc)\n",
      "  Downloading mpld3-0.5.10-py3-none-any.whl.metadata (5.1 kB)\n",
      "Requirement already satisfied: pillow in /opt/miniconda/lib/python3.11/site-packages (from pycbc) (10.2.0)\n",
      "Collecting h5py!=3.7.0,>=3.0.0 (from pycbc)\n",
      "  Downloading h5py-3.14.0-cp311-cp311-manylinux_2_17_x86_64.manylinux2014_x86_64.whl.metadata (2.7 kB)\n",
      "Requirement already satisfied: jinja2 in /opt/miniconda/lib/python3.11/site-packages (from pycbc) (3.1.3)\n",
      "Collecting Mako>=1.0.1 (from pycbc)\n",
      "  Downloading mako-1.3.10-py3-none-any.whl.metadata (2.9 kB)\n",
      "Requirement already satisfied: beautifulsoup4>=4.6.0 in /opt/miniconda/lib/python3.11/site-packages (from pycbc) (4.10.0)\n",
      "Requirement already satisfied: tqdm in /opt/miniconda/lib/python3.11/site-packages (from pycbc) (4.65.0)\n",
      "Requirement already satisfied: setuptools in /opt/miniconda/lib/python3.11/site-packages (from pycbc) (68.2.2)\n",
      "Collecting gwdatafind (from pycbc)\n",
      "  Downloading gwdatafind-2.0.0-py3-none-any.whl.metadata (3.6 kB)\n",
      "Collecting pegasus-wms.api>=5.1.1 (from pycbc)\n",
      "  Downloading pegasus_wms_api-5.1.1.tar.gz (73 kB)\n",
      "\u001b[2K     \u001b[90m━━━━━━━━━━━━━━━━━━━━━━━━━━━━━━━━━━━━━━━━\u001b[0m \u001b[32m73.9/73.9 kB\u001b[0m \u001b[31m3.7 MB/s\u001b[0m eta \u001b[36m0:00:00\u001b[0m\n",
      "\u001b[?25h  Installing build dependencies ... \u001b[?25ldone\n",
      "\u001b[?25h  Getting requirements to build wheel ... \u001b[?25ldone\n",
      "\u001b[?25h  Preparing metadata (pyproject.toml) ... \u001b[?25ldone\n",
      "\u001b[?25hCollecting igwn-ligolw<2.1.0 (from pycbc)\n",
      "  Downloading igwn_ligolw-2.0.1-cp311-cp311-manylinux_2_5_x86_64.manylinux1_x86_64.manylinux_2_28_x86_64.whl.metadata (2.2 kB)\n",
      "Collecting igwn-segments (from pycbc)\n",
      "  Downloading igwn_segments-2.1.0-cp311-cp311-manylinux_2_5_x86_64.manylinux1_x86_64.manylinux_2_28_x86_64.whl.metadata (2.0 kB)\n",
      "Collecting lalsuite!=7.2 (from pycbc)\n",
      "  Downloading lalsuite-7.11-cp311-cp311-manylinux_2_17_x86_64.manylinux2014_x86_64.whl.metadata (2.4 kB)\n",
      "Collecting lscsoft-glue>=1.59.3 (from pycbc)\n",
      "  Downloading lscsoft_glue-4.1.0-py3-none-any.whl.metadata (1.5 kB)\n",
      "Collecting pykerr (from pycbc)\n",
      "  Downloading pykerr-0.1.0-py3-none-any.whl.metadata (5.4 kB)\n",
      "Requirement already satisfied: pyerfa>=2.0 in /opt/miniconda/lib/python3.11/site-packages (from astropy!=4.0.5,!=4.2.1,>=2.0.3->pycbc) (2.0.1.1)\n",
      "Requirement already satisfied: PyYAML>=3.13 in /opt/miniconda/lib/python3.11/site-packages (from astropy!=4.0.5,!=4.2.1,>=2.0.3->pycbc) (6.0.1)\n",
      "Requirement already satisfied: packaging>=19.0 in /opt/miniconda/lib/python3.11/site-packages (from astropy!=4.0.5,!=4.2.1,>=2.0.3->pycbc) (23.1)\n",
      "Requirement already satisfied: soupsieve>1.2 in /opt/miniconda/lib/python3.11/site-packages (from beautifulsoup4>=4.6.0->pycbc) (2.5)\n",
      "Requirement already satisfied: python-dateutil in /opt/miniconda/lib/python3.11/site-packages (from igwn-ligolw<2.1.0->pycbc) (2.8.2)\n",
      "Collecting ligo-segments (from lalsuite!=7.2->pycbc)\n",
      "  Downloading ligo-segments-1.4.0.tar.gz (51 kB)\n",
      "\u001b[2K     \u001b[90m━━━━━━━━━━━━━━━━━━━━━━━━━━━━━━━━━━━━━━━━\u001b[0m \u001b[32m51.0/51.0 kB\u001b[0m \u001b[31m1.5 MB/s\u001b[0m eta \u001b[36m0:00:00\u001b[0m\n",
      "\u001b[?25h  Preparing metadata (setup.py) ... \u001b[?25ldone\n",
      "\u001b[?25hRequirement already satisfied: MarkupSafe>=0.9.2 in /opt/miniconda/lib/python3.11/site-packages (from Mako>=1.0.1->pycbc) (2.1.5)\n",
      "Requirement already satisfied: cycler>=0.10 in /opt/miniconda/lib/python3.11/site-packages (from matplotlib>=1.5.1->pycbc) (0.12.1)\n",
      "Requirement already satisfied: fonttools>=4.22.0 in /opt/miniconda/lib/python3.11/site-packages (from matplotlib>=1.5.1->pycbc) (4.49.0)\n",
      "Requirement already satisfied: kiwisolver>=1.0.1 in /opt/miniconda/lib/python3.11/site-packages (from matplotlib>=1.5.1->pycbc) (1.4.5)\n",
      "Requirement already satisfied: pyparsing>=2.2.1 in /opt/miniconda/lib/python3.11/site-packages (from matplotlib>=1.5.1->pycbc) (3.1.1)\n",
      "Collecting pegasus-wms.common (from pegasus-wms.api>=5.1.1->pycbc)\n",
      "  Downloading pegasus_wms_common-5.1.1.tar.gz (103 kB)\n",
      "\u001b[2K     \u001b[90m━━━━━━━━━━━━━━━━━━━━━━━━━━━━━━━━━━━━━━━\u001b[0m \u001b[32m103.2/103.2 kB\u001b[0m \u001b[31m2.5 MB/s\u001b[0m eta \u001b[36m0:00:00\u001b[0m00:01\u001b[0m\n",
      "\u001b[?25h  Installing build dependencies ... \u001b[?25ldone\n",
      "\u001b[?25h  Getting requirements to build wheel ... \u001b[?25ldone\n",
      "\u001b[?25h  Preparing metadata (pyproject.toml) ... \u001b[?25ldone\n",
      "\u001b[?25hRequirement already satisfied: charset-normalizer<4,>=2 in /opt/miniconda/lib/python3.11/site-packages (from requests>=1.0.0->gwosc) (2.0.4)\n",
      "Requirement already satisfied: idna<4,>=2.5 in /opt/miniconda/lib/python3.11/site-packages (from requests>=1.0.0->gwosc) (3.4)\n",
      "Requirement already satisfied: urllib3<3,>=1.21.1 in /opt/miniconda/lib/python3.11/site-packages (from requests>=1.0.0->gwosc) (2.1.0)\n",
      "Requirement already satisfied: certifi>=2017.4.17 in /opt/miniconda/lib/python3.11/site-packages (from requests>=1.0.0->gwosc) (2024.2.2)\n",
      "Collecting igwn-auth-utils>=0.3.1 (from gwdatafind->pycbc)\n",
      "  Downloading igwn_auth_utils-1.4.0-py3-none-any.whl.metadata (4.2 kB)\n",
      "Collecting cryptography>=44.0.1 (from igwn-auth-utils>=0.3.1->gwdatafind->pycbc)\n",
      "  Downloading cryptography-45.0.5-cp311-abi3-manylinux2014_x86_64.manylinux_2_17_x86_64.whl.metadata (5.7 kB)\n",
      "Collecting requests>=1.0.0 (from gwosc)\n",
      "  Downloading requests-2.32.4-py3-none-any.whl.metadata (4.9 kB)\n",
      "Collecting safe-netrc>=1.0 (from igwn-auth-utils>=0.3.1->gwdatafind->pycbc)\n",
      "  Downloading safe_netrc-1.0.1-py3-none-any.whl.metadata (1.9 kB)\n",
      "Collecting scitokens>=1.8 (from igwn-auth-utils>=0.3.1->gwdatafind->pycbc)\n",
      "  Downloading scitokens-1.8.1-py3-none-any.whl.metadata (12 kB)\n",
      "Requirement already satisfied: six>=1.5 in /opt/miniconda/lib/python3.11/site-packages (from python-dateutil->igwn-ligolw<2.1.0->pycbc) (1.16.0)\n",
      "Requirement already satisfied: cffi>=1.14 in /opt/miniconda/lib/python3.11/site-packages (from cryptography>=44.0.1->igwn-auth-utils>=0.3.1->gwdatafind->pycbc) (1.16.0)\n",
      "Collecting PyJWT>=1.6.1 (from scitokens>=1.8->igwn-auth-utils>=0.3.1->gwdatafind->pycbc)\n",
      "  Downloading PyJWT-2.10.1-py3-none-any.whl.metadata (4.0 kB)\n",
      "Requirement already satisfied: pycparser in /opt/miniconda/lib/python3.11/site-packages (from cffi>=1.14->cryptography>=44.0.1->igwn-auth-utils>=0.3.1->gwdatafind->pycbc) (2.21)\n",
      "Downloading gwosc-0.8.1-py3-none-any.whl (32 kB)\n",
      "Downloading pycbc-2.9.0-cp311-cp311-manylinux_2_24_x86_64.manylinux_2_28_x86_64.whl (9.3 MB)\n",
      "\u001b[2K   \u001b[90m━━━━━━━━━━━━━━━━━━━━━━━━━━━━━━━━━━━━━━━━\u001b[0m \u001b[32m9.3/9.3 MB\u001b[0m \u001b[31m11.6 MB/s\u001b[0m eta \u001b[36m0:00:00\u001b[0m00:01\u001b[0m00:01\u001b[0mm\n",
      "\u001b[?25hDownloading cython-3.1.2-cp311-cp311-manylinux_2_17_x86_64.manylinux2014_x86_64.whl (3.2 MB)\n",
      "\u001b[2K   \u001b[90m━━━━━━━━━━━━━━━━━━━━━━━━━━━━━━━━━━━━━━━━\u001b[0m \u001b[32m3.2/3.2 MB\u001b[0m \u001b[31m57.0 MB/s\u001b[0m eta \u001b[36m0:00:00\u001b[0m:00:01\u001b[0m\n",
      "\u001b[?25hDownloading h5py-3.14.0-cp311-cp311-manylinux_2_17_x86_64.manylinux2014_x86_64.whl (4.5 MB)\n",
      "\u001b[2K   \u001b[90m━━━━━━━━━━━━━━━━━━━━━━━━━━━━━━━━━━━━━━━━\u001b[0m \u001b[32m4.5/4.5 MB\u001b[0m \u001b[31m66.5 MB/s\u001b[0m eta \u001b[36m0:00:00\u001b[0m:00:01\u001b[0m\n",
      "\u001b[?25hDownloading igwn_ligolw-2.0.1-cp311-cp311-manylinux_2_5_x86_64.manylinux1_x86_64.manylinux_2_28_x86_64.whl (178 kB)\n",
      "\u001b[2K   \u001b[90m━━━━━━━━━━━━━━━━━━━━━━━━━━━━━━━━━━━━━━━━\u001b[0m \u001b[32m178.7/178.7 kB\u001b[0m \u001b[31m1.0 MB/s\u001b[0m eta \u001b[36m0:00:00\u001b[0mta \u001b[36m0:00:01\u001b[0m\n",
      "\u001b[?25hDownloading lalsuite-7.11-cp311-cp311-manylinux_2_17_x86_64.manylinux2014_x86_64.whl (48.4 MB)\n",
      "\u001b[2K   \u001b[90m━━━━━━━━━━━━━━━━━━━━━━━━━━━━━━━━━━━━━━━━\u001b[0m \u001b[32m48.4/48.4 MB\u001b[0m \u001b[31m7.5 MB/s\u001b[0m eta \u001b[36m0:00:00\u001b[0m00:01\u001b[0m00:01\u001b[0mm\n",
      "\u001b[?25hDownloading lscsoft_glue-4.1.0-py3-none-any.whl (50 kB)\n",
      "\u001b[2K   \u001b[90m━━━━━━━━━━━━━━━━━━━━━━━━━━━━━━━━━━━━━━━━\u001b[0m \u001b[32m50.1/50.1 kB\u001b[0m \u001b[31m1.0 MB/s\u001b[0m eta \u001b[36m0:00:00\u001b[0meta \u001b[36m0:00:01\u001b[0m\n",
      "\u001b[?25hDownloading mako-1.3.10-py3-none-any.whl (78 kB)\n",
      "\u001b[2K   \u001b[90m━━━━━━━━━━━━━━━━━━━━━━━━━━━━━━━━━━━━━━━━\u001b[0m \u001b[32m78.5/78.5 kB\u001b[0m \u001b[31m2.7 MB/s\u001b[0m eta \u001b[36m0:00:00\u001b[0m\n",
      "\u001b[?25hDownloading mpld3-0.5.10-py3-none-any.whl (202 kB)\n",
      "\u001b[2K   \u001b[90m━━━━━━━━━━━━━━━━━━━━━━━━━━━━━━━━━━━━━━━━\u001b[0m \u001b[32m202.6/202.6 kB\u001b[0m \u001b[31m9.5 MB/s\u001b[0m eta \u001b[36m0:00:00\u001b[0m\n",
      "\u001b[?25hDownloading gwdatafind-2.0.0-py3-none-any.whl (39 kB)\n",
      "Downloading igwn_segments-2.1.0-cp311-cp311-manylinux_2_5_x86_64.manylinux1_x86_64.manylinux_2_28_x86_64.whl (128 kB)\n",
      "\u001b[2K   \u001b[90m━━━━━━━━━━━━━━━━━━━━━━━━━━━━━━━━━━━━━━━━\u001b[0m \u001b[32m128.6/128.6 kB\u001b[0m \u001b[31m6.0 MB/s\u001b[0m eta \u001b[36m0:00:00\u001b[0m\n",
      "\u001b[?25hDownloading pykerr-0.1.0-py3-none-any.whl (48.1 MB)\n",
      "\u001b[2K   \u001b[90m━━━━━━━━━━━━━━━━━━━━━━━━━━━━━━━━━━━━━━━━\u001b[0m \u001b[32m48.1/48.1 MB\u001b[0m \u001b[31m6.2 MB/s\u001b[0m eta \u001b[36m0:00:00\u001b[0m:00:01\u001b[0m00:01\u001b[0m\n",
      "\u001b[?25hDownloading igwn_auth_utils-1.4.0-py3-none-any.whl (34 kB)\n",
      "Downloading requests-2.32.4-py3-none-any.whl (64 kB)\n",
      "\u001b[2K   \u001b[90m━━━━━━━━━━━━━━━━━━━━━━━━━━━━━━━━━━━━━━━━\u001b[0m \u001b[32m64.8/64.8 kB\u001b[0m \u001b[31m333.5 kB/s\u001b[0m eta \u001b[36m0:00:00\u001b[0ma \u001b[36m0:00:01\u001b[0m\n",
      "\u001b[?25hDownloading cryptography-45.0.5-cp311-abi3-manylinux2014_x86_64.manylinux_2_17_x86_64.whl (4.4 MB)\n",
      "\u001b[2K   \u001b[90m━━━━━━━━━━━━━━━━━━━━━━━━━━━━━━━━━━━━━━━━\u001b[0m \u001b[32m4.4/4.4 MB\u001b[0m \u001b[31m68.4 MB/s\u001b[0m eta \u001b[36m0:00:00\u001b[0m:00:01\u001b[0m\n",
      "\u001b[?25hDownloading safe_netrc-1.0.1-py3-none-any.whl (10 kB)\n",
      "Downloading scitokens-1.8.1-py3-none-any.whl (31 kB)\n",
      "Downloading PyJWT-2.10.1-py3-none-any.whl (22 kB)\n",
      "Building wheels for collected packages: pegasus-wms.api, ligo-segments, pegasus-wms.common\n",
      "  Building wheel for pegasus-wms.api (pyproject.toml) ... \u001b[?25ldone\n",
      "\u001b[?25h  Created wheel for pegasus-wms.api: filename=pegasus_wms.api-5.1.1-py3-none-any.whl size=51367 sha256=5fe7b7a44da8f6d8edf93696c9278e01ba48152821fd61653c1b3adba63913b5\n",
      "  Stored in directory: /media/home/.cache/pip/wheels/b9/3c/4f/a90e429fd07c0362319b52d72c9ae1b5d8322adad87fd3ba66\n",
      "  Building wheel for ligo-segments (setup.py) ... \u001b[?25ldone\n",
      "\u001b[?25h  Created wheel for ligo-segments: filename=ligo_segments-1.4.0-cp311-cp311-linux_x86_64.whl size=50854 sha256=491ac3324b1d0c81b79e671d53abdb5f63ddd0763dc6d0b7971e5120baac00ef\n",
      "  Stored in directory: /media/home/.cache/pip/wheels/02/2b/93/c2ee2b6f4ea9572ee4f5ade0115c4bd0887be6228328740dae\n",
      "  Building wheel for pegasus-wms.common (pyproject.toml) ... \u001b[?25ldone\n",
      "\u001b[?25h  Created wheel for pegasus-wms.common: filename=pegasus_wms.common-5.1.1-py3-none-any.whl size=25197 sha256=fcd20fa3dc5d7d184a4b477b49fbaeb5bb7d4fa3fd8670a593a34404918fee2a\n",
      "  Stored in directory: /media/home/.cache/pip/wheels/fa/33/00/9879afc011a472e7426e6bf709612695d782f83e98e9e1090a\n",
      "Successfully built pegasus-wms.api ligo-segments pegasus-wms.common\n",
      "Installing collected packages: safe-netrc, requests, PyJWT, pegasus-wms.common, Mako, ligo-segments, igwn-segments, h5py, cython, pykerr, pegasus-wms.api, lscsoft-glue, igwn-ligolw, gwosc, cryptography, scitokens, mpld3, lalsuite, igwn-auth-utils, gwdatafind, pycbc\n",
      "\u001b[33m  WARNING: The script mako-render is installed in '/home/tnaketsa/.local/bin' which is not on PATH.\n",
      "  Consider adding this directory to PATH or, if you prefer to suppress this warning, use --no-warn-script-location.\u001b[0m\u001b[33m\n",
      "\u001b[0m\u001b[33m  WARNING: The scripts cygdb, cython and cythonize are installed in '/home/tnaketsa/.local/bin' which is not on PATH.\n",
      "  Consider adding this directory to PATH or, if you prefer to suppress this warning, use --no-warn-script-location.\u001b[0m\u001b[33m\n",
      "\u001b[0m\u001b[33m  WARNING: The scripts scitokens-admin-create-key, scitokens-admin-create-token and scitokens-verify-token are installed in '/home/tnaketsa/.local/bin' which is not on PATH.\n",
      "  Consider adding this directory to PATH or, if you prefer to suppress this warning, use --no-warn-script-location.\u001b[0m\u001b[33m\n",
      "\u001b[0m\u001b[33m  WARNING: The script gw_data_find is installed in '/home/tnaketsa/.local/bin' which is not on PATH.\n",
      "  Consider adding this directory to PATH or, if you prefer to suppress this warning, use --no-warn-script-location.\u001b[0m\u001b[33m\n",
      "\u001b[0m\u001b[31mERROR: pip's dependency resolver does not currently take into account all the packages that are installed. This behaviour is the source of the following dependency conflicts.\n",
      "pyopenssl 24.0.0 requires cryptography<43,>=41.0.5, but you have cryptography 45.0.5 which is incompatible.\u001b[0m\u001b[31m\n",
      "\u001b[0mSuccessfully installed Mako-1.3.10 PyJWT-2.10.1 cryptography-45.0.5 cython-3.1.2 gwdatafind-2.0.0 gwosc-0.8.1 h5py-3.14.0 igwn-auth-utils-1.4.0 igwn-ligolw-2.0.1 igwn-segments-2.1.0 lalsuite-7.11 ligo-segments-1.4.0 lscsoft-glue-4.1.0 mpld3-0.5.10 pegasus-wms.api-5.1.1 pegasus-wms.common-5.1.1 pycbc-2.9.0 pykerr-0.1.0 requests-2.32.4 safe-netrc-1.0.1 scitokens-1.8.1\n"
     ]
    }
   ],
   "source": [
    "!pip install gwosc pycbc"
   ]
  },
  {
   "cell_type": "code",
   "execution_count": null,
   "id": "26b27c8f-925c-47b3-ad01-1d901c5585e6",
   "metadata": {},
   "outputs": [],
   "source": [
    "import numpy as np\n"
   ]
  },
  {
   "cell_type": "code",
   "execution_count": null,
   "id": "ff377c5e-93c6-4266-8fdf-578403a43793",
   "metadata": {},
   "outputs": [],
   "source": []
  },
  {
   "cell_type": "code",
   "execution_count": null,
   "id": "4a894727-9fd2-4b09-b9e3-3ee650ab923c",
   "metadata": {},
   "outputs": [],
   "source": []
  },
  {
   "cell_type": "code",
   "execution_count": null,
   "id": "434ca6c3-4cc7-4d35-bb51-546d7be6d739",
   "metadata": {},
   "outputs": [],
   "source": []
  },
  {
   "cell_type": "code",
   "execution_count": null,
   "id": "9c82e665-95c4-4182-ac17-bd58c12cf3c1",
   "metadata": {},
   "outputs": [],
   "source": []
  },
  {
   "cell_type": "code",
   "execution_count": null,
   "id": "c24bd05b-5ea0-44c2-9c9b-72d8954e3530",
   "metadata": {},
   "outputs": [],
   "source": []
  },
  {
   "cell_type": "code",
   "execution_count": null,
   "id": "3f152daf-c9ce-4351-8d06-2e0b5c89f610",
   "metadata": {},
   "outputs": [],
   "source": []
  },
  {
   "cell_type": "code",
   "execution_count": null,
   "id": "1fc2471c-9d15-4f1a-bc3a-eb391e9fc81a",
   "metadata": {},
   "outputs": [],
   "source": []
  },
  {
   "cell_type": "code",
   "execution_count": null,
   "id": "b2fc07e6-e66e-4eba-8213-beb7505f2230",
   "metadata": {},
   "outputs": [],
   "source": []
  },
  {
   "cell_type": "code",
   "execution_count": null,
   "id": "cf54437f-a850-4112-9f3a-cf988ad312e2",
   "metadata": {},
   "outputs": [],
   "source": []
  },
  {
   "cell_type": "code",
   "execution_count": null,
   "id": "f43a2c12-78b1-44ed-813c-240072d10477",
   "metadata": {},
   "outputs": [],
   "source": []
  },
  {
   "cell_type": "code",
   "execution_count": null,
   "id": "267cdd03-86c3-460d-9c5c-79e7f574a7a2",
   "metadata": {},
   "outputs": [],
   "source": []
  },
  {
   "cell_type": "code",
   "execution_count": null,
   "id": "4741f1d9-9b14-4904-b00d-4279de616ef5",
   "metadata": {},
   "outputs": [],
   "source": []
  },
  {
   "cell_type": "code",
   "execution_count": null,
   "id": "37f87676-8f63-43dc-a81f-86e24fea23db",
   "metadata": {},
   "outputs": [],
   "source": []
  },
  {
   "cell_type": "code",
   "execution_count": null,
   "id": "6e44277f-78d8-4eb4-87c8-0bf1958f83b1",
   "metadata": {},
   "outputs": [],
   "source": []
  },
  {
   "cell_type": "code",
   "execution_count": null,
   "id": "ddfa6a93-5b32-44e6-a665-be9a0535dc1e",
   "metadata": {},
   "outputs": [],
   "source": []
  },
  {
   "cell_type": "code",
   "execution_count": null,
   "id": "0275197a-48c2-420a-9c57-d0cc3036628c",
   "metadata": {},
   "outputs": [],
   "source": []
  },
  {
   "cell_type": "code",
   "execution_count": null,
   "id": "a4c15fa5-f75b-4a98-87c0-28ef82d7261b",
   "metadata": {},
   "outputs": [],
   "source": []
  }
 ],
 "metadata": {
  "kernelspec": {
   "display_name": "Python 3 (ipykernel)",
   "language": "python",
   "name": "python3"
  },
  "language_info": {
   "codemirror_mode": {
    "name": "ipython",
    "version": 3
   },
   "file_extension": ".py",
   "mimetype": "text/x-python",
   "name": "python",
   "nbconvert_exporter": "python",
   "pygments_lexer": "ipython3",
   "version": "3.11.5"
  }
 },
 "nbformat": 4,
 "nbformat_minor": 5
}
