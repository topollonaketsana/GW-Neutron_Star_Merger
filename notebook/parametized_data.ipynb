{
 "cells": [
  {
   "cell_type": "markdown",
   "id": "1003b9e6-eb26-4197-9ae5-053222d8f00b",
   "metadata": {},
   "source": [
    "## Neutron Star Mergers project\n",
    "\n",
    "## Overview\n",
    "**Notebook Author:** Topollo Naketsana (University of the Western Cape)<br>\n",
    "\n",
    "**Paper:** [here]()"
   ]
  },
  {
   "cell_type": "markdown",
   "id": "e74c752f-12f1-41b9-8500-ed838f89fa63",
   "metadata": {},
   "source": [
    "### Background:"
   ]
  },
  {
   "cell_type": "code",
   "execution_count": 16,
   "id": "8ce650e6-f94e-45f9-921e-7c2ccf0a532c",
   "metadata": {
    "tags": []
   },
   "outputs": [],
   "source": [
    "import matplotlib.pyplot as plt\n",
    "import numpy as np\n",
    "import pandas as pd\n",
    "import seaborn as sns"
   ]
  },
  {
   "cell_type": "code",
   "execution_count": 18,
   "id": "bc965457-f693-4c75-963b-100d1e980060",
   "metadata": {
    "tags": []
   },
   "outputs": [],
   "source": [
    "# load data\n",
    "data = pd.read_csv('../data/Parametrized_data.dat')"
   ]
  },
  {
   "cell_type": "code",
   "execution_count": 19,
   "id": "bb413fb1-6cef-4a2c-9886-be26a2b9a94f",
   "metadata": {
    "tags": []
   },
   "outputs": [
    {
     "data": {
      "text/html": [
       "<div>\n",
       "<style scoped>\n",
       "    .dataframe tbody tr th:only-of-type {\n",
       "        vertical-align: middle;\n",
       "    }\n",
       "\n",
       "    .dataframe tbody tr th {\n",
       "        vertical-align: top;\n",
       "    }\n",
       "\n",
       "    .dataframe thead th {\n",
       "        text-align: right;\n",
       "    }\n",
       "</style>\n",
       "<table border=\"1\" class=\"dataframe\">\n",
       "  <thead>\n",
       "    <tr style=\"text-align: right;\">\n",
       "      <th></th>\n",
       "      <th>m1_source_frame_Msun</th>\n",
       "      <th>m2_source_frame_Msun</th>\n",
       "      <th>Lambda1</th>\n",
       "      <th>Lambda2</th>\n",
       "      <th>Radius1_km</th>\n",
       "      <th>Radius2_km</th>\n",
       "    </tr>\n",
       "  </thead>\n",
       "  <tbody>\n",
       "    <tr>\n",
       "      <th>0</th>\n",
       "      <td>1.637296</td>\n",
       "      <td>1.140765</td>\n",
       "      <td>66.373870</td>\n",
       "      <td>723.523060</td>\n",
       "      <td>10.887391</td>\n",
       "      <td>11.097352</td>\n",
       "    </tr>\n",
       "    <tr>\n",
       "      <th>1</th>\n",
       "      <td>1.612825</td>\n",
       "      <td>1.156845</td>\n",
       "      <td>191.207304</td>\n",
       "      <td>1335.339873</td>\n",
       "      <td>12.402063</td>\n",
       "      <td>12.349246</td>\n",
       "    </tr>\n",
       "    <tr>\n",
       "      <th>2</th>\n",
       "      <td>1.563015</td>\n",
       "      <td>1.191614</td>\n",
       "      <td>200.526550</td>\n",
       "      <td>1156.272842</td>\n",
       "      <td>12.285450</td>\n",
       "      <td>12.501216</td>\n",
       "    </tr>\n",
       "    <tr>\n",
       "      <th>3</th>\n",
       "      <td>1.625307</td>\n",
       "      <td>1.148567</td>\n",
       "      <td>134.833116</td>\n",
       "      <td>1439.597356</td>\n",
       "      <td>12.141489</td>\n",
       "      <td>12.627265</td>\n",
       "    </tr>\n",
       "    <tr>\n",
       "      <th>4</th>\n",
       "      <td>1.625909</td>\n",
       "      <td>1.148243</td>\n",
       "      <td>177.099466</td>\n",
       "      <td>1428.281697</td>\n",
       "      <td>12.399686</td>\n",
       "      <td>12.426146</td>\n",
       "    </tr>\n",
       "    <tr>\n",
       "      <th>...</th>\n",
       "      <td>...</td>\n",
       "      <td>...</td>\n",
       "      <td>...</td>\n",
       "      <td>...</td>\n",
       "      <td>...</td>\n",
       "      <td>...</td>\n",
       "    </tr>\n",
       "    <tr>\n",
       "      <th>2391</th>\n",
       "      <td>1.456157</td>\n",
       "      <td>1.275411</td>\n",
       "      <td>271.138172</td>\n",
       "      <td>593.167994</td>\n",
       "      <td>11.771023</td>\n",
       "      <td>11.732749</td>\n",
       "    </tr>\n",
       "    <tr>\n",
       "      <th>2392</th>\n",
       "      <td>1.363036</td>\n",
       "      <td>1.361102</td>\n",
       "      <td>275.144868</td>\n",
       "      <td>277.559025</td>\n",
       "      <td>11.146219</td>\n",
       "      <td>11.146212</td>\n",
       "    </tr>\n",
       "    <tr>\n",
       "      <th>2393</th>\n",
       "      <td>1.547311</td>\n",
       "      <td>1.202998</td>\n",
       "      <td>308.382837</td>\n",
       "      <td>1352.958123</td>\n",
       "      <td>12.800400</td>\n",
       "      <td>12.770993</td>\n",
       "    </tr>\n",
       "    <tr>\n",
       "      <th>2394</th>\n",
       "      <td>1.379074</td>\n",
       "      <td>1.345569</td>\n",
       "      <td>253.244553</td>\n",
       "      <td>293.279550</td>\n",
       "      <td>11.077769</td>\n",
       "      <td>11.070750</td>\n",
       "    </tr>\n",
       "    <tr>\n",
       "      <th>2395</th>\n",
       "      <td>1.431397</td>\n",
       "      <td>1.296661</td>\n",
       "      <td>149.341066</td>\n",
       "      <td>279.713550</td>\n",
       "      <td>10.668988</td>\n",
       "      <td>10.683169</td>\n",
       "    </tr>\n",
       "  </tbody>\n",
       "</table>\n",
       "<p>2396 rows × 6 columns</p>\n",
       "</div>"
      ],
      "text/plain": [
       "      m1_source_frame_Msun  m2_source_frame_Msun     Lambda1      Lambda2  \\\n",
       "0                 1.637296              1.140765   66.373870   723.523060   \n",
       "1                 1.612825              1.156845  191.207304  1335.339873   \n",
       "2                 1.563015              1.191614  200.526550  1156.272842   \n",
       "3                 1.625307              1.148567  134.833116  1439.597356   \n",
       "4                 1.625909              1.148243  177.099466  1428.281697   \n",
       "...                    ...                   ...         ...          ...   \n",
       "2391              1.456157              1.275411  271.138172   593.167994   \n",
       "2392              1.363036              1.361102  275.144868   277.559025   \n",
       "2393              1.547311              1.202998  308.382837  1352.958123   \n",
       "2394              1.379074              1.345569  253.244553   293.279550   \n",
       "2395              1.431397              1.296661  149.341066   279.713550   \n",
       "\n",
       "      Radius1_km  Radius2_km  \n",
       "0      10.887391   11.097352  \n",
       "1      12.402063   12.349246  \n",
       "2      12.285450   12.501216  \n",
       "3      12.141489   12.627265  \n",
       "4      12.399686   12.426146  \n",
       "...          ...         ...  \n",
       "2391   11.771023   11.732749  \n",
       "2392   11.146219   11.146212  \n",
       "2393   12.800400   12.770993  \n",
       "2394   11.077769   11.070750  \n",
       "2395   10.668988   10.683169  \n",
       "\n",
       "[2396 rows x 6 columns]"
      ]
     },
     "execution_count": 19,
     "metadata": {},
     "output_type": "execute_result"
    }
   ],
   "source": [
    "data"
   ]
  },
  {
   "cell_type": "code",
   "execution_count": 20,
   "id": "e1b17cc7-2265-4826-9e2f-b9fb2b6eb371",
   "metadata": {
    "tags": []
   },
   "outputs": [
    {
     "name": "stdout",
     "output_type": "stream",
     "text": [
      "<class 'pandas.core.frame.DataFrame'>\n",
      "RangeIndex: 2396 entries, 0 to 2395\n",
      "Data columns (total 6 columns):\n",
      " #   Column                Non-Null Count  Dtype  \n",
      "---  ------                --------------  -----  \n",
      " 0   m1_source_frame_Msun  2396 non-null   float64\n",
      " 1   m2_source_frame_Msun  2396 non-null   float64\n",
      " 2   Lambda1               2396 non-null   float64\n",
      " 3   Lambda2               2396 non-null   float64\n",
      " 4   Radius1_km            2396 non-null   float64\n",
      " 5   Radius2_km            2396 non-null   float64\n",
      "dtypes: float64(6)\n",
      "memory usage: 112.4 KB\n"
     ]
    }
   ],
   "source": [
    "data.info()"
   ]
  },
  {
   "cell_type": "code",
   "execution_count": 11,
   "id": "b91717d3-c95e-49fa-bba6-b354b01a4fcb",
   "metadata": {
    "tags": []
   },
   "outputs": [
    {
     "data": {
      "text/plain": [
       "(2396, 6)"
      ]
     },
     "execution_count": 11,
     "metadata": {},
     "output_type": "execute_result"
    }
   ],
   "source": [
    "# shape\n",
    "data.shape"
   ]
  },
  {
   "cell_type": "code",
   "execution_count": null,
   "id": "4256cb59-fb29-4fe2-9c0b-271594a6066a",
   "metadata": {},
   "outputs": [],
   "source": [
    "(2396, 6)"
   ]
  },
  {
   "cell_type": "code",
   "execution_count": 15,
   "id": "76c2f739-779f-4806-95ff-7605d6e77856",
   "metadata": {
    "tags": []
   },
   "outputs": [
    {
     "data": {
      "text/plain": [
       "m1_source_frame_Msun    0.0\n",
       "m2_source_frame_Msun    0.0\n",
       "Lambda1                 0.0\n",
       "Lambda2                 0.0\n",
       "Radius1_km              0.0\n",
       "Radius2_km              0.0\n",
       "dtype: float64"
      ]
     },
     "execution_count": 15,
     "metadata": {},
     "output_type": "execute_result"
    }
   ],
   "source": [
    "# the missing values\n",
    "data.isna().mean()"
   ]
  },
  {
   "cell_type": "code",
   "execution_count": 23,
   "id": "c5d64c4a-611a-424e-9de4-07b1f992238e",
   "metadata": {
    "tags": []
   },
   "outputs": [],
   "source": [
    "# define m1 and m2 as well as their radii\n",
    "M1 = data['m1_source_frame_Msun']\n",
    "M2 = data['m2_source_frame_Msun']\n",
    "\n",
    "# radii\n",
    "R1 = data['Radius1_km']\n",
    "R2 = data['Radius2_km']"
   ]
  },
  {
   "cell_type": "code",
   "execution_count": 33,
   "id": "5b19d295-65b1-4170-9669-4b2b01798139",
   "metadata": {
    "tags": []
   },
   "outputs": [
    {
     "data": {
      "text/plain": [
       "Text(0.5, 0, 'Mass (solar masses)')"
      ]
     },
     "execution_count": 33,
     "metadata": {},
     "output_type": "execute_result"
    },
    {
     "data": {
      "image/png": "[encoded data removed]",
      "text/plain": [
       "<Figure size 640x480 with 1 Axes>"
      ]
     },
     "metadata": {},
     "output_type": "display_data"
    }
   ],
   "source": [
    "# plot the distribution of massess\n",
    "sns.histplot(M1)\n",
    "sns.histplot(M2)\n",
    "\n",
    "plt.title('Distribution of Masses for two Neutron stars')\n",
    "plt.xlabel('Mass (solar masses)')"
   ]
  },
  {
   "cell_type": "code",
   "execution_count": 34,
   "id": "4cf7ec4d-6e99-407c-897d-f22eb82d2188",
   "metadata": {
    "tags": []
   },
   "outputs": [
    {
     "data": {
      "text/plain": [
       "Text(0.5, 0, 'Radius (km)')"
      ]
     },
     "execution_count": 34,
     "metadata": {},
     "output_type": "execute_result"
    },
    {
     "data": {
      "image/png": "[encoded data removed]",
      "text/plain": [
       "<Figure size 640x480 with 1 Axes>"
      ]
     },
     "metadata": {},
     "output_type": "display_data"
    }
   ],
   "source": [
    "# plot the distribution of radii\n",
    "sns.histplot(R1)\n",
    "sns.histplot(R2)\n",
    "\n",
    "plt.title('Distribution of radii for two Neutron stars')\n",
    "plt.xlabel('Radius (km)')"
   ]
  },
  {
   "cell_type": "markdown",
   "id": "7e65aa64-a230-4a8f-9788-d15981a92671",
   "metadata": {},
   "source": [
    "## Background"
   ]
  },
  {
   "cell_type": "markdown",
   "id": "0cda5ed2-d80f-4f91-a929-7b5675406e4c",
   "metadata": {},
   "source": [
    "### Orbital Frequency vs Mass and Radius\n",
    "\n",
    "The orbital frequency \\( f \\) of a binary neutron star system can be related to the total mass \\( M = M_1 + M_2 \\) and the orbital separation \\( r \\) as:\n",
    "\n",
    "$$\n",
    "f = \\frac{1}{2\\pi} \\sqrt{ \\frac{G M}{r^3} }\n",
    "$$\n",
    "\n",
    "This equation is derived from Kepler's third law and Newtonian gravity, assuming a circular orbit. It allows us to explore how frequency changes with varying mass and orbital radius, as shown in the following plot.\n"
   ]
  },
  {
   "cell_type": "code",
   "execution_count": 41,
   "id": "d6237c7f-a8d8-4770-8aa8-4c5029986974",
   "metadata": {
    "tags": []
   },
   "outputs": [
    {
     "name": "stdout",
     "output_type": "stream",
     "text": [
      "Separation = 98.0 km\n"
     ]
    },
    {
     "data": {
      "image/png": "[encoded data removed]",
      "text/plain": [
       "<Figure size 800x500 with 1 Axes>"
      ]
     },
     "metadata": {},
     "output_type": "display_data"
    }
   ],
   "source": [
    "f = 1000\n",
    "G = 6.67430e-11\n",
    "M_sun = 1.98847e30\n",
    "M_total = np.array(M1 + M2)\n",
    "R_km = 1e3\n",
    "\n",
    "# function\n",
    "separation_r = lambda M_total, f: (\n",
    "    (G * (M_total * M_sun) / (2 * np.pi * f)**2) ** (1/3) / R_km)\n",
    "\n",
    "r_km = separation_r(2.8, 100)               # 2.8 M☉ binary at 100 Hz\n",
    "print(f\"Separation = {r_km:.1f} km\")\n",
    "\n",
    "# total mass range in solar masses\n",
    "M_range = np.linspace(1.0, 3.0, 100)\n",
    "\n",
    "# Compute separations\n",
    "r_range = np.array([separation_r(M, f) for M in M_range])\n",
    "\n",
    "# Plotting\n",
    "plt.figure(figsize= (8, 5))\n",
    "plt.plot(M_range, r_range, color= 'darkblue')\n",
    "plt.title(f\"Orbital Separation vs Mass at Hz\")\n",
    "plt.xlabel(\"Total Mass $M$ (M$_\\\\odot$)\")\n",
    "plt.ylabel(\"Orbital Separation $r$ (km)\")\n",
    "plt.grid(True)\n",
    "plt.tight_layout()\n",
    "plt.show()"
   ]
  },
  {
   "cell_type": "code",
   "execution_count": null,
   "id": "33a043a2-35c1-4812-a549-0e8a0e0c47d6",
   "metadata": {},
   "outputs": [],
   "source": []
  },
  {
   "cell_type": "markdown",
   "id": "f428c34f-823c-4061-a96d-268d2e8ee728",
   "metadata": {},
   "source": [
    "### Equation of State (EoS) + General relativity\n",
    "\n",
    "We assume a **polytropic equation of state**:\n",
    "\n",
    "$\n",
    "P = K \\rho^\\gamma\n",
    "$\n",
    "\n",
    "where:\n",
    "- P  is the pressure\n",
    "- $\\rho$  is the energy density\n",
    "- \\( K \\) is the polytropic constant\n",
    "- \\( $\\gamma$ \\) is the adiabatic index (e.g. \\( $\\gamma$ = 2 \\))\n",
    "\n",
    "From this, we can also invert:\n",
    "\n",
    "\n",
    "$\\rho = \\left( \\frac{P}{K} \\right)^{1/\\gamma}\n",
    "$\n"
   ]
  },
  {
   "cell_type": "code",
   "execution_count": null,
   "id": "83e4e906-a143-4c6d-b31f-41afd9f6ac37",
   "metadata": {},
   "outputs": [],
   "source": []
  },
  {
   "cell_type": "code",
   "execution_count": null,
   "id": "a9bc83fe-4ac2-4dec-9d55-00093de06578",
   "metadata": {},
   "outputs": [],
   "source": []
  },
  {
   "cell_type": "code",
   "execution_count": null,
   "id": "eaffe7cb-fb29-4bdb-a5ba-8d209b92200e",
   "metadata": {},
   "outputs": [],
   "source": []
  },
  {
   "cell_type": "code",
   "execution_count": null,
   "id": "d73ff613-7bda-4fef-826b-ce99ca6e7a12",
   "metadata": {},
   "outputs": [],
   "source": []
  },
  {
   "cell_type": "code",
   "execution_count": null,
   "id": "1b10245c-80df-4a83-b1e3-a0bcef1a966b",
   "metadata": {},
   "outputs": [],
   "source": []
  }
 ],
 "metadata": {
  "kernelspec": {
   "display_name": "Python 3 (ipykernel)",
   "language": "python",
   "name": "python3"
  },
  "language_info": {
   "codemirror_mode": {
    "name": "ipython",
    "version": 3
   },
   "file_extension": ".py",
   "mimetype": "text/x-python",
   "name": "python",
   "nbconvert_exporter": "python",
   "pygments_lexer": "ipython3",
   "version": "3.11.5"
  }
 },
 "nbformat": 4,
 "nbformat_minor": 5
}
