{
 "cells": [
  {
   "cell_type": "markdown",
   "id": "1003b9e6-eb26-4197-9ae5-053222d8f00b",
   "metadata": {},
   "source": [
    "## Neutron Star Mergers project\n",
    "\n",
    "## Overview\n",
    "**Notebook Author:** Topollo Naketsana (University of the Western Cape)<br>\n",
    "\n",
    "**Paper:**"
   ]
  },
  {
   "cell_type": "markdown",
   "id": "092f7a38-242f-4c33-ab29-101275e9fa20",
   "metadata": {},
   "source": [
    "## 1. Data Collection:\n",
    "\n",
    "The data for this study was collected from the GW1742453 "
   ]
  },
  {
   "cell_type": "code",
   "execution_count": 765,
   "id": "d2a18b1e-622e-482d-818c-9f8c6de97e30",
   "metadata": {},
   "outputs": [],
   "source": [
    "##"
   ]
  },
  {
   "cell_type": "code",
   "execution_count": 766,
   "id": "8ce650e6-f94e-45f9-921e-7c2ccf0a532c",
   "metadata": {
    "tags": []
   },
   "outputs": [],
   "source": [
    "import matplotlib.pyplot as plt\n",
    "import numpy as np\n",
    "import pandas as pd\n",
    "import seaborn as sns\n",
    "from scipy.interpolate import interp1d, PchipInterpolator\n",
    "from scipy.integrate import solve_ivp"
   ]
  },
  {
   "cell_type": "code",
   "execution_count": 767,
   "id": "bc965457-f693-4c75-963b-100d1e980060",
   "metadata": {
    "tags": []
   },
   "outputs": [],
   "source": [
    "# load data\n",
    "data = pd.read_csv('../data/Parametrized_data.dat')"
   ]
  },
  {
   "cell_type": "code",
   "execution_count": 768,
   "id": "bb413fb1-6cef-4a2c-9886-be26a2b9a94f",
   "metadata": {
    "tags": []
   },
   "outputs": [
    {
     "data": {
      "text/html": [
       "<div>\n",
       "<style scoped>\n",
       "    .dataframe tbody tr th:only-of-type {\n",
       "        vertical-align: middle;\n",
       "    }\n",
       "\n",
       "    .dataframe tbody tr th {\n",
       "        vertical-align: top;\n",
       "    }\n",
       "\n",
       "    .dataframe thead th {\n",
       "        text-align: right;\n",
       "    }\n",
       "</style>\n",
       "<table border=\"1\" class=\"dataframe\">\n",
       "  <thead>\n",
       "    <tr style=\"text-align: right;\">\n",
       "      <th></th>\n",
       "      <th>m1_source_frame_Msun</th>\n",
       "      <th>m2_source_frame_Msun</th>\n",
       "      <th>Lambda1</th>\n",
       "      <th>Lambda2</th>\n",
       "      <th>Radius1_km</th>\n",
       "      <th>Radius2_km</th>\n",
       "    </tr>\n",
       "  </thead>\n",
       "  <tbody>\n",
       "    <tr>\n",
       "      <th>0</th>\n",
       "      <td>1.637296</td>\n",
       "      <td>1.140765</td>\n",
       "      <td>66.373870</td>\n",
       "      <td>723.523060</td>\n",
       "      <td>10.887391</td>\n",
       "      <td>11.097352</td>\n",
       "    </tr>\n",
       "    <tr>\n",
       "      <th>1</th>\n",
       "      <td>1.612825</td>\n",
       "      <td>1.156845</td>\n",
       "      <td>191.207304</td>\n",
       "      <td>1335.339873</td>\n",
       "      <td>12.402063</td>\n",
       "      <td>12.349246</td>\n",
       "    </tr>\n",
       "    <tr>\n",
       "      <th>2</th>\n",
       "      <td>1.563015</td>\n",
       "      <td>1.191614</td>\n",
       "      <td>200.526550</td>\n",
       "      <td>1156.272842</td>\n",
       "      <td>12.285450</td>\n",
       "      <td>12.501216</td>\n",
       "    </tr>\n",
       "    <tr>\n",
       "      <th>3</th>\n",
       "      <td>1.625307</td>\n",
       "      <td>1.148567</td>\n",
       "      <td>134.833116</td>\n",
       "      <td>1439.597356</td>\n",
       "      <td>12.141489</td>\n",
       "      <td>12.627265</td>\n",
       "    </tr>\n",
       "    <tr>\n",
       "      <th>4</th>\n",
       "      <td>1.625909</td>\n",
       "      <td>1.148243</td>\n",
       "      <td>177.099466</td>\n",
       "      <td>1428.281697</td>\n",
       "      <td>12.399686</td>\n",
       "      <td>12.426146</td>\n",
       "    </tr>\n",
       "    <tr>\n",
       "      <th>...</th>\n",
       "      <td>...</td>\n",
       "      <td>...</td>\n",
       "      <td>...</td>\n",
       "      <td>...</td>\n",
       "      <td>...</td>\n",
       "      <td>...</td>\n",
       "    </tr>\n",
       "    <tr>\n",
       "      <th>2391</th>\n",
       "      <td>1.456157</td>\n",
       "      <td>1.275411</td>\n",
       "      <td>271.138172</td>\n",
       "      <td>593.167994</td>\n",
       "      <td>11.771023</td>\n",
       "      <td>11.732749</td>\n",
       "    </tr>\n",
       "    <tr>\n",
       "      <th>2392</th>\n",
       "      <td>1.363036</td>\n",
       "      <td>1.361102</td>\n",
       "      <td>275.144868</td>\n",
       "      <td>277.559025</td>\n",
       "      <td>11.146219</td>\n",
       "      <td>11.146212</td>\n",
       "    </tr>\n",
       "    <tr>\n",
       "      <th>2393</th>\n",
       "      <td>1.547311</td>\n",
       "      <td>1.202998</td>\n",
       "      <td>308.382837</td>\n",
       "      <td>1352.958123</td>\n",
       "      <td>12.800400</td>\n",
       "      <td>12.770993</td>\n",
       "    </tr>\n",
       "    <tr>\n",
       "      <th>2394</th>\n",
       "      <td>1.379074</td>\n",
       "      <td>1.345569</td>\n",
       "      <td>253.244553</td>\n",
       "      <td>293.279550</td>\n",
       "      <td>11.077769</td>\n",
       "      <td>11.070750</td>\n",
       "    </tr>\n",
       "    <tr>\n",
       "      <th>2395</th>\n",
       "      <td>1.431397</td>\n",
       "      <td>1.296661</td>\n",
       "      <td>149.341066</td>\n",
       "      <td>279.713550</td>\n",
       "      <td>10.668988</td>\n",
       "      <td>10.683169</td>\n",
       "    </tr>\n",
       "  </tbody>\n",
       "</table>\n",
       "<p>2396 rows × 6 columns</p>\n",
       "</div>"
      ],
      "text/plain": [
       "      m1_source_frame_Msun  m2_source_frame_Msun     Lambda1      Lambda2  \\\n",
       "0                 1.637296              1.140765   66.373870   723.523060   \n",
       "1                 1.612825              1.156845  191.207304  1335.339873   \n",
       "2                 1.563015              1.191614  200.526550  1156.272842   \n",
       "3                 1.625307              1.148567  134.833116  1439.597356   \n",
       "4                 1.625909              1.148243  177.099466  1428.281697   \n",
       "...                    ...                   ...         ...          ...   \n",
       "2391              1.456157              1.275411  271.138172   593.167994   \n",
       "2392              1.363036              1.361102  275.144868   277.559025   \n",
       "2393              1.547311              1.202998  308.382837  1352.958123   \n",
       "2394              1.379074              1.345569  253.244553   293.279550   \n",
       "2395              1.431397              1.296661  149.341066   279.713550   \n",
       "\n",
       "      Radius1_km  Radius2_km  \n",
       "0      10.887391   11.097352  \n",
       "1      12.402063   12.349246  \n",
       "2      12.285450   12.501216  \n",
       "3      12.141489   12.627265  \n",
       "4      12.399686   12.426146  \n",
       "...          ...         ...  \n",
       "2391   11.771023   11.732749  \n",
       "2392   11.146219   11.146212  \n",
       "2393   12.800400   12.770993  \n",
       "2394   11.077769   11.070750  \n",
       "2395   10.668988   10.683169  \n",
       "\n",
       "[2396 rows x 6 columns]"
      ]
     },
     "execution_count": 768,
     "metadata": {},
     "output_type": "execute_result"
    }
   ],
   "source": [
    "data"
   ]
  },
  {
   "cell_type": "code",
   "execution_count": 769,
   "id": "e1b17cc7-2265-4826-9e2f-b9fb2b6eb371",
   "metadata": {
    "tags": []
   },
   "outputs": [
    {
     "name": "stdout",
     "output_type": "stream",
     "text": [
      "<class 'pandas.core.frame.DataFrame'>\n",
      "RangeIndex: 2396 entries, 0 to 2395\n",
      "Data columns (total 6 columns):\n",
      " #   Column                Non-Null Count  Dtype  \n",
      "---  ------                --------------  -----  \n",
      " 0   m1_source_frame_Msun  2396 non-null   float64\n",
      " 1   m2_source_frame_Msun  2396 non-null   float64\n",
      " 2   Lambda1               2396 non-null   float64\n",
      " 3   Lambda2               2396 non-null   float64\n",
      " 4   Radius1_km            2396 non-null   float64\n",
      " 5   Radius2_km            2396 non-null   float64\n",
      "dtypes: float64(6)\n",
      "memory usage: 112.4 KB\n"
     ]
    }
   ],
   "source": [
    "data.info()"
   ]
  },
  {
   "cell_type": "code",
   "execution_count": 770,
   "id": "b91717d3-c95e-49fa-bba6-b354b01a4fcb",
   "metadata": {
    "tags": []
   },
   "outputs": [
    {
     "data": {
      "text/plain": [
       "(2396, 6)"
      ]
     },
     "execution_count": 770,
     "metadata": {},
     "output_type": "execute_result"
    }
   ],
   "source": [
    "# shape\n",
    "data.shape"
   ]
  },
  {
   "cell_type": "code",
   "execution_count": 771,
   "id": "76c2f739-779f-4806-95ff-7605d6e77856",
   "metadata": {
    "tags": []
   },
   "outputs": [
    {
     "data": {
      "text/plain": [
       "m1_source_frame_Msun    0.0\n",
       "m2_source_frame_Msun    0.0\n",
       "Lambda1                 0.0\n",
       "Lambda2                 0.0\n",
       "Radius1_km              0.0\n",
       "Radius2_km              0.0\n",
       "dtype: float64"
      ]
     },
     "execution_count": 771,
     "metadata": {},
     "output_type": "execute_result"
    }
   ],
   "source": [
    "# the missing values\n",
    "data.isna().mean()"
   ]
  },
  {
   "cell_type": "code",
   "execution_count": 772,
   "id": "c5d64c4a-611a-424e-9de4-07b1f992238e",
   "metadata": {
    "tags": []
   },
   "outputs": [],
   "source": [
    "# define m1 and m2 as well as their radii\n",
    "M1 = data['m1_source_frame_Msun']\n",
    "M2 = data['m2_source_frame_Msun']\n",
    "\n",
    "# radii\n",
    "R1 = data['Radius1_km']\n",
    "R2 = data['Radius2_km']"
   ]
  },
  {
   "cell_type": "code",
   "execution_count": 773,
   "id": "190c429c-9cad-4ca8-bd2d-5e9f66b4a142",
   "metadata": {
    "tags": []
   },
   "outputs": [
    {
     "data": {
      "text/plain": [
       "0       1.637296\n",
       "1       1.612825\n",
       "2       1.563015\n",
       "3       1.625307\n",
       "4       1.625909\n",
       "          ...   \n",
       "2391    1.456157\n",
       "2392    1.363036\n",
       "2393    1.547311\n",
       "2394    1.379074\n",
       "2395    1.431397\n",
       "Name: m1_source_frame_Msun, Length: 2396, dtype: float64"
      ]
     },
     "execution_count": 773,
     "metadata": {},
     "output_type": "execute_result"
    }
   ],
   "source": [
    "M1"
   ]
  },
  {
   "cell_type": "markdown",
   "id": "2693b1cb-6684-41ea-9355-ae414ca36b93",
   "metadata": {},
   "source": []
  },
  {
   "cell_type": "code",
   "execution_count": 774,
   "id": "5b19d295-65b1-4170-9669-4b2b01798139",
   "metadata": {
    "tags": []
   },
   "outputs": [
    {
     "data": {
      "text/plain": [
       "Text(0.5, 0, 'Mass (solar masses)')"
      ]
     },
     "execution_count": 774,
     "metadata": {},
     "output_type": "execute_result"
    },
    {
     "data": {
      "image/png": "[encoded data removed]",
      "text/plain": [
       "<Figure size 640x480 with 1 Axes>"
      ]
     },
     "metadata": {},
     "output_type": "display_data"
    }
   ],
   "source": [
    "# plot the distribution of massess\n",
    "sns.histplot(M1)\n",
    "sns.histplot(M2)\n",
    "\n",
    "plt.title('Distribution of Masses for two Neutron stars')\n",
    "plt.xlabel('Mass (solar masses)')"
   ]
  },
  {
   "cell_type": "code",
   "execution_count": 775,
   "id": "4cf7ec4d-6e99-407c-897d-f22eb82d2188",
   "metadata": {
    "tags": []
   },
   "outputs": [
    {
     "data": {
      "text/plain": [
       "Text(0.5, 0, 'Radius (km)')"
      ]
     },
     "execution_count": 775,
     "metadata": {},
     "output_type": "execute_result"
    },
    {
     "data": {
      "image/png": "[encoded data removed]",
      "text/plain": [
       "<Figure size 640x480 with 1 Axes>"
      ]
     },
     "metadata": {},
     "output_type": "display_data"
    }
   ],
   "source": [
    "# plot the distribution of radii\n",
    "sns.histplot(R1)\n",
    "sns.histplot(R2)\n",
    "\n",
    "plt.title('Distribution of radii for two Neutron stars')\n",
    "plt.xlabel('Radius (km)')"
   ]
  },
  {
   "cell_type": "markdown",
   "id": "7e65aa64-a230-4a8f-9788-d15981a92671",
   "metadata": {},
   "source": [
    "## Background"
   ]
  },
  {
   "cell_type": "markdown",
   "id": "0cda5ed2-d80f-4f91-a929-7b5675406e4c",
   "metadata": {},
   "source": [
    "### Orbital Frequency vs Mass and Radius\n",
    "\n",
    "The orbital frequency \\( f \\) of a binary neutron star system can be related to the total mass \\( M = M_1 + M_2 \\) and the orbital separation \\( r \\) as:\n",
    "\n",
    "$$\n",
    "f = \\frac{1}{2\\pi} \\sqrt{ \\frac{G M}{r^3} }\n",
    "$$\n",
    "\n",
    "This equation is derived from Kepler's third law and Newtonian gravity, assuming a circular orbit. It allows us to explore how frequency changes with varying mass and orbital radius, as shown in the following plot.\n"
   ]
  },
  {
   "cell_type": "code",
   "execution_count": 776,
   "id": "649a2eb0-dca6-46b9-adeb-c920f830941d",
   "metadata": {
    "tags": []
   },
   "outputs": [],
   "source": [
    "M_total = (M1+M2)"
   ]
  },
  {
   "cell_type": "code",
   "execution_count": 777,
   "id": "d6237c7f-a8d8-4770-8aa8-4c5029986974",
   "metadata": {
    "tags": []
   },
   "outputs": [
    {
     "data": {
      "image/png": "[encoded data removed]",
      "text/plain": [
       "<Figure size 800x500 with 1 Axes>"
      ]
     },
     "metadata": {},
     "output_type": "display_data"
    }
   ],
   "source": [
    "# variables\n",
    "f = 1000\n",
    "G = 6.67430e-11\n",
    "c = 3e8\n",
    "M_sun = 1.98847e30\n",
    "M_total = M1+M2\n",
    "R_km = 1e3\n",
    "\n",
    "# function\n",
    "separation_r = lambda M_total, f: (\n",
    "    (G * (M_total*M_sun) / (2 * np.pi * f)**2) ** (1/3) / R_km)\n",
    "\n",
    "r_km = separation_r(M_total, f)              \n",
    "#print(f'Separation = {r_km} km')\n",
    "\n",
    "\n",
    "# Compute separations\n",
    "#r_range = np.array([separation_r(M, f) for M in M_range])\n",
    "\n",
    "# Plotting\n",
    "plt.figure(figsize= (8, 5))\n",
    "plt.scatter(M_total, r_km, color= 'darkblue', marker= '.')\n",
    "plt.title(f\"Orbital Separation vs Mass at Hz\")\n",
    "plt.xlabel(\"Total Mass $M$ (M$_\\\\odot$)\")\n",
    "plt.ylabel(\"Orbital Separation $r$ (km)\")\n",
    "plt.grid(True)\n",
    "plt.tight_layout()\n",
    "plt.show()"
   ]
  },
  {
   "cell_type": "markdown",
   "id": "24a6923a-b408-4793-9143-48820ac361f3",
   "metadata": {},
   "source": []
  },
  {
   "cell_type": "markdown",
   "id": "316a1b3e-9801-4f7f-828b-be09fcbc239d",
   "metadata": {},
   "source": [
    "## 1. Pressure and Density models"
   ]
  },
  {
   "cell_type": "markdown",
   "id": "f428c34f-823c-4061-a96d-268d2e8ee728",
   "metadata": {},
   "source": [
    "### Equation of State (EoS) + General relativity  =>  TOV\n",
    "\n",
    "We assume a **polytropic equation of state**:\n",
    "\n",
    "$\n",
    "P = K \\rho^\\gamma\n",
    "$\n",
    "\n",
    "where:\n",
    "- P  is the pressure\n",
    "- $\\rho$  is the energy density\n",
    "- \\( K \\) is the polytropic constant\n",
    "- \\( $\\gamma$ \\) is the adiabatic index (e.g. \\( $\\gamma$ = 2 \\))\n",
    "\n"
   ]
  },
  {
   "cell_type": "code",
   "execution_count": 778,
   "id": "c920daa9-44e3-4ac3-8255-46b929a3d189",
   "metadata": {
    "tags": []
   },
   "outputs": [
    {
     "data": {
      "text/html": [
       "<div>\n",
       "<style scoped>\n",
       "    .dataframe tbody tr th:only-of-type {\n",
       "        vertical-align: middle;\n",
       "    }\n",
       "\n",
       "    .dataframe tbody tr th {\n",
       "        vertical-align: top;\n",
       "    }\n",
       "\n",
       "    .dataframe thead th {\n",
       "        text-align: right;\n",
       "    }\n",
       "</style>\n",
       "<table border=\"1\" class=\"dataframe\">\n",
       "  <thead>\n",
       "    <tr style=\"text-align: right;\">\n",
       "      <th></th>\n",
       "      <th>log_density_cgs</th>\n",
       "      <th>log_pressure_5pc_cgs</th>\n",
       "      <th>log_pressure_25pc_cgs</th>\n",
       "      <th>log_pressure_75pc_cgs</th>\n",
       "      <th>log_pressure_95pc_cgs</th>\n",
       "    </tr>\n",
       "  </thead>\n",
       "  <tbody>\n",
       "    <tr>\n",
       "      <th>0</th>\n",
       "      <td>14.0000</td>\n",
       "      <td>32.561779</td>\n",
       "      <td>32.562330</td>\n",
       "      <td>32.563101</td>\n",
       "      <td>32.563390</td>\n",
       "    </tr>\n",
       "    <tr>\n",
       "      <th>1</th>\n",
       "      <td>14.0152</td>\n",
       "      <td>32.587335</td>\n",
       "      <td>32.587378</td>\n",
       "      <td>32.587511</td>\n",
       "      <td>32.587637</td>\n",
       "    </tr>\n",
       "    <tr>\n",
       "      <th>2</th>\n",
       "      <td>14.0303</td>\n",
       "      <td>32.611438</td>\n",
       "      <td>32.611899</td>\n",
       "      <td>32.613190</td>\n",
       "      <td>32.614130</td>\n",
       "    </tr>\n",
       "    <tr>\n",
       "      <th>3</th>\n",
       "      <td>14.0455</td>\n",
       "      <td>32.635921</td>\n",
       "      <td>32.636741</td>\n",
       "      <td>32.639004</td>\n",
       "      <td>32.640570</td>\n",
       "    </tr>\n",
       "    <tr>\n",
       "      <th>4</th>\n",
       "      <td>14.0606</td>\n",
       "      <td>32.661113</td>\n",
       "      <td>32.662041</td>\n",
       "      <td>32.664467</td>\n",
       "      <td>32.666057</td>\n",
       "    </tr>\n",
       "    <tr>\n",
       "      <th>...</th>\n",
       "      <td>...</td>\n",
       "      <td>...</td>\n",
       "      <td>...</td>\n",
       "      <td>...</td>\n",
       "      <td>...</td>\n",
       "    </tr>\n",
       "    <tr>\n",
       "      <th>95</th>\n",
       "      <td>15.4394</td>\n",
       "      <td>36.124063</td>\n",
       "      <td>36.370507</td>\n",
       "      <td>36.587263</td>\n",
       "      <td>36.745616</td>\n",
       "    </tr>\n",
       "    <tr>\n",
       "      <th>96</th>\n",
       "      <td>15.4545</td>\n",
       "      <td>36.144654</td>\n",
       "      <td>36.399896</td>\n",
       "      <td>36.624444</td>\n",
       "      <td>36.781883</td>\n",
       "    </tr>\n",
       "    <tr>\n",
       "      <th>97</th>\n",
       "      <td>15.4697</td>\n",
       "      <td>36.164036</td>\n",
       "      <td>36.427712</td>\n",
       "      <td>36.659637</td>\n",
       "      <td>36.816517</td>\n",
       "    </tr>\n",
       "    <tr>\n",
       "      <th>98</th>\n",
       "      <td>15.4848</td>\n",
       "      <td>36.184599</td>\n",
       "      <td>36.455837</td>\n",
       "      <td>36.696234</td>\n",
       "      <td>36.853259</td>\n",
       "    </tr>\n",
       "    <tr>\n",
       "      <th>99</th>\n",
       "      <td>15.5000</td>\n",
       "      <td>36.205451</td>\n",
       "      <td>36.483792</td>\n",
       "      <td>36.732186</td>\n",
       "      <td>36.888304</td>\n",
       "    </tr>\n",
       "  </tbody>\n",
       "</table>\n",
       "<p>100 rows × 5 columns</p>\n",
       "</div>"
      ],
      "text/plain": [
       "    log_density_cgs  log_pressure_5pc_cgs  log_pressure_25pc_cgs  \\\n",
       "0           14.0000             32.561779              32.562330   \n",
       "1           14.0152             32.587335              32.587378   \n",
       "2           14.0303             32.611438              32.611899   \n",
       "3           14.0455             32.635921              32.636741   \n",
       "4           14.0606             32.661113              32.662041   \n",
       "..              ...                   ...                    ...   \n",
       "95          15.4394             36.124063              36.370507   \n",
       "96          15.4545             36.144654              36.399896   \n",
       "97          15.4697             36.164036              36.427712   \n",
       "98          15.4848             36.184599              36.455837   \n",
       "99          15.5000             36.205451              36.483792   \n",
       "\n",
       "    log_pressure_75pc_cgs  log_pressure_95pc_cgs  \n",
       "0               32.563101              32.563390  \n",
       "1               32.587511              32.587637  \n",
       "2               32.613190              32.614130  \n",
       "3               32.639004              32.640570  \n",
       "4               32.664467              32.666057  \n",
       "..                    ...                    ...  \n",
       "95              36.587263              36.745616  \n",
       "96              36.624444              36.781883  \n",
       "97              36.659637              36.816517  \n",
       "98              36.696234              36.853259  \n",
       "99              36.732186              36.888304  \n",
       "\n",
       "[100 rows x 5 columns]"
      ]
     },
     "execution_count": 778,
     "metadata": {},
     "output_type": "execute_result"
    }
   ],
   "source": [
    "# columns  rho[kg/m^3], P[Pa]\n",
    "path = '../data/Pressure_density_credible_levels.dat'\n",
    "df = pd.read_csv(path)\n",
    "\n",
    "df"
   ]
  },
  {
   "cell_type": "code",
   "execution_count": 779,
   "id": "d157f356-145f-4826-8991-0955181e3942",
   "metadata": {
    "tags": []
   },
   "outputs": [
    {
     "name": "stdout",
     "output_type": "stream",
     "text": [
      "<class 'pandas.core.frame.DataFrame'>\n",
      "RangeIndex: 100 entries, 0 to 99\n",
      "Data columns (total 5 columns):\n",
      " #   Column                 Non-Null Count  Dtype  \n",
      "---  ------                 --------------  -----  \n",
      " 0   log_density_cgs        100 non-null    float64\n",
      " 1   log_pressure_5pc_cgs   100 non-null    float64\n",
      " 2   log_pressure_25pc_cgs  100 non-null    float64\n",
      " 3   log_pressure_75pc_cgs  100 non-null    float64\n",
      " 4   log_pressure_95pc_cgs  100 non-null    float64\n",
      "dtypes: float64(5)\n",
      "memory usage: 4.0 KB\n"
     ]
    }
   ],
   "source": [
    "df.info()"
   ]
  },
  {
   "cell_type": "markdown",
   "id": "a2271e69-398f-43b9-a3d8-9d10dc2b72c7",
   "metadata": {},
   "source": [
    "#####"
   ]
  },
  {
   "cell_type": "code",
   "execution_count": 780,
   "id": "150481f1-d6c0-451d-b234-c39952ee63f8",
   "metadata": {
    "tags": []
   },
   "outputs": [],
   "source": [
    "# log10 values\n",
    "rho_log = df['log_density_cgs'].values        # kg m^-3\n",
    "P_log   = df['log_pressure_5pc_cgs'].values          # Pa\n",
    "\n",
    "# convert to linear\n",
    "rho_si = 10**rho_log * 1e3       # g/cm³ to kg/m³\n",
    "P_si   = 10**P_log * 0.1       # dyne/cm² to Pa"
   ]
  },
  {
   "cell_type": "code",
   "execution_count": 781,
   "id": "cdde1fcb-22a1-405e-994b-bf43323c520f",
   "metadata": {
    "tags": []
   },
   "outputs": [
    {
     "data": {
      "text/plain": [
       "array([1.00000000e+17, 1.03561898e+17, 1.07225974e+17, 1.11045254e+17,\n",
       "       1.14974095e+17, 1.19069355e+17, 1.23282093e+17, 1.27673275e+17,\n",
       "       1.32190425e+17, 1.36898913e+17, 1.41742471e+17, 1.46791193e+17,\n",
       "       1.51984745e+17, 1.57398286e+17, 1.62967124e+17, 1.68771846e+17,\n",
       "       1.74743086e+17, 1.80967255e+17, 1.87369975e+17, 1.94043902e+17,\n",
       "       2.00909281e+17, 2.08065464e+17, 2.15426934e+17, 2.23100221e+17,\n",
       "       2.30993628e+17, 2.39221385e+17, 2.47685168e+17, 2.56507460e+17,\n",
       "       2.65582833e+17, 2.75042622e+17, 2.84773780e+17, 2.94917131e+17,\n",
       "       3.05351459e+17, 3.16227766e+17, 3.27491476e+17, 3.39078302e+17,\n",
       "       3.51155925e+17, 3.63580012e+17, 3.76530360e+17, 3.89852210e+17,\n",
       "       4.03738346e+17, 4.18022829e+17, 4.32912375e+17, 4.48229050e+17,\n",
       "       4.64194510e+17, 4.80617965e+17, 4.97737085e+17, 5.15347294e+17,\n",
       "       5.33703437e+17, 5.52586156e+17, 5.72268709e+17, 5.92515888e+17,\n",
       "       6.13620698e+17, 6.35330932e+17, 6.57960770e+17, 6.81239780e+17,\n",
       "       7.05504844e+17, 7.30465990e+17, 7.56484441e+17, 7.83249272e+17,\n",
       "       8.11147810e+17, 8.39846661e+17, 8.69761140e+17, 9.00533763e+17,\n",
       "       9.32609854e+17, 9.65606099e+17, 1.00000000e+18, 1.03561898e+18,\n",
       "       1.07225974e+18, 1.11045254e+18, 1.14974095e+18, 1.19069355e+18,\n",
       "       1.23282093e+18, 1.27673275e+18, 1.32190425e+18, 1.36898913e+18,\n",
       "       1.41742471e+18, 1.46791193e+18, 1.51984745e+18, 1.57398286e+18,\n",
       "       1.62967124e+18, 1.68771846e+18, 1.74743086e+18, 1.80967255e+18,\n",
       "       1.87369975e+18, 1.94043902e+18, 2.00909281e+18, 2.08065464e+18,\n",
       "       2.15426934e+18, 2.23100221e+18, 2.30993628e+18, 2.39221385e+18,\n",
       "       2.47685168e+18, 2.56507460e+18, 2.65582833e+18, 2.75042622e+18,\n",
       "       2.84773780e+18, 2.94917131e+18, 3.05351459e+18, 3.16227766e+18])"
      ]
     },
     "execution_count": 781,
     "metadata": {},
     "output_type": "execute_result"
    }
   ],
   "source": [
    "rho_si"
   ]
  },
  {
   "cell_type": "code",
   "execution_count": 782,
   "id": "f307f1f0-2aa9-434b-b74d-abf95bc03768",
   "metadata": {
    "tags": []
   },
   "outputs": [
    {
     "name": "stdout",
     "output_type": "stream",
     "text": [
      "(100,)\n",
      "(100,)\n"
     ]
    }
   ],
   "source": [
    "print(P_si.shape)\n",
    "print(rho_si.shape)"
   ]
  },
  {
   "cell_type": "code",
   "execution_count": 783,
   "id": "87a71882-3904-49d5-9873-f4ff4da01a2a",
   "metadata": {
    "tags": []
   },
   "outputs": [
    {
     "name": "stdout",
     "output_type": "stream",
     "text": [
      "log_density_cgs          0.0\n",
      "log_pressure_5pc_cgs     0.0\n",
      "log_pressure_25pc_cgs    0.0\n",
      "log_pressure_75pc_cgs    0.0\n",
      "log_pressure_95pc_cgs    0.0\n",
      "dtype: float64\n"
     ]
    }
   ],
   "source": [
    "# nan\n",
    "print(df.isna().mean())"
   ]
  },
  {
   "cell_type": "code",
   "execution_count": 784,
   "id": "4257b581-2a16-4211-b86c-f591373e80b4",
   "metadata": {
    "tags": []
   },
   "outputs": [],
   "source": [
    "# arrays are sorted by density\n",
    "order = np.argsort(rho_si)\n",
    "rho_si = rho_si[order]\n",
    "P_si   = P_si[order]"
   ]
  },
  {
   "cell_type": "code",
   "execution_count": 785,
   "id": "4895b5f6-9670-4f19-bd99-73e2aa3e1817",
   "metadata": {
    "tags": []
   },
   "outputs": [
    {
     "name": "stdout",
     "output_type": "stream",
     "text": [
      "unique ρ : [14.     14.0152 14.0303 14.0455 14.0606] ...\n",
      "unique P : [32.561779 32.587335 32.611438 32.635921 32.661113] ...\n"
     ]
    }
   ],
   "source": [
    "print(\"unique ρ :\", np.unique(rho_log)[:5], \"...\")  \n",
    "print(\"unique P :\", np.unique(P_log)[:5], \"...\")"
   ]
  },
  {
   "cell_type": "code",
   "execution_count": 786,
   "id": "3cf06b08-0abc-46d2-b4be-aaf0fb3a79a5",
   "metadata": {
    "tags": []
   },
   "outputs": [
    {
     "data": {
      "image/png": "[encoded data removed]",
      "text/plain": [
       "<Figure size 700x500 with 1 Axes>"
      ]
     },
     "metadata": {},
     "output_type": "display_data"
    }
   ],
   "source": [
    "plt.figure(figsize= (7,5))\n",
    "plt.loglog(rho_si, P_si, '.', label= 'data points')\n",
    "plt.xlabel(r'Density $\\rho$ (kg m$^{-3}$)')\n",
    "plt.ylabel(r'Pressure $P$ (Pa)')\n",
    "plt.title('Pressure and Density model')\n",
    "\n",
    "plt.legend()\n",
    "plt.show()"
   ]
  },
  {
   "cell_type": "code",
   "execution_count": 787,
   "id": "5bca3d52-df80-4e68-b551-1ff494d2e02c",
   "metadata": {
    "tags": []
   },
   "outputs": [],
   "source": [
    "##"
   ]
  },
  {
   "cell_type": "markdown",
   "id": "83ed4b5a-2070-47df-a00d-4078a9d2c8a0",
   "metadata": {
    "tags": []
   },
   "source": [
    "\n",
    "### 2. TOV with a Realistic Equation of State - Pressure and Radius Model\n",
    "_____________________________________________________________________________________________________________\n",
    "\n",
    "Steps:\n",
    "\n",
    "1.  Load EoS (columns: ρ [kg m⁻³], P [Pa]).\n",
    "2.  Create interpolating functions  P(ρ)  and  ρ(P).\n",
    "3.  Integrate the TOV ODEs,    \n",
    "\n",
    "${\\displaystyle {\\frac {dP}{dr}}=-{\\frac {G}{r^{2}}}\\left(\\rho +{\\frac {P}{c^{2}}}\\right)\\left(m+4\\pi r^{3}{\\frac {P}{c^{2}}}\\right)\\left(1-        {\\frac {2Gm}{c^{2}r}}\\right)^{-1}}$\n",
    "      \n",
    "And,\n",
    "      \n",
    "$\\frac{dm}{dr}=4\\pi r^{2}\\rho,\\qquad$\n",
    "    \n",
    "                          \n",
    "4.  Stop when $P\\to0$ to obtain the stellar radius \\(R\\).\n",
    "5.  Repeat for many ρ\\(_c\\) to obtain the M–R curve.\n",
    "\n",
    "\n",
    "\n",
    "Using scipy to solve the $dP / dr$ and $dm / dr$ ODEs"
   ]
  },
  {
   "cell_type": "code",
   "execution_count": 788,
   "id": "cbdcd5c4-a7f1-4a30-83e8-3b33615c23ed",
   "metadata": {},
   "outputs": [],
   "source": [
    "# constants\n",
    "G = 6.67430e-11               # m^3 / kg / s^2\n",
    "c = 3e8                       # m/s\n",
    "M_sun = 1.9885e30             # kg\n",
    "pi = np.pi\n",
    "\n",
    "\n",
    "# EOS Parameters \n",
    "gamma = 2\n",
    "K = 1e-2"
   ]
  },
  {
   "cell_type": "code",
   "execution_count": 789,
   "id": "a8e38a87-7347-4492-9620-c6a93be85ad0",
   "metadata": {
    "tags": []
   },
   "outputs": [
    {
     "name": "stdout",
     "output_type": "stream",
     "text": [
      "Allowed central densities: 1.00e+17 to 3.16e+18 kg/m3\n"
     ]
    }
   ],
   "source": [
    "print(f\"Allowed central densities: {np.min(rho_si):.2e} to {np.max(rho_si):.2e} kg/m3\")"
   ]
  },
  {
   "cell_type": "code",
   "execution_count": 790,
   "id": "8ed76815-d798-41b3-8592-628332dc62f8",
   "metadata": {
    "tags": []
   },
   "outputs": [],
   "source": [
    "# Interpolators: P(ρ) and ρ(P)\n",
    "P_of_rho = PchipInterpolator(rho_si, P_si, extrapolate= False)\n",
    "rho_of_P = PchipInterpolator(P_si, rho_si, extrapolate= False)"
   ]
  },
  {
   "cell_type": "code",
   "execution_count": 791,
   "id": "3fc286f1-3b1f-42c6-b04c-4aa6ce36d537",
   "metadata": {
    "tags": []
   },
   "outputs": [],
   "source": [
    "def tov_rhs(r, y):\n",
    "    P, m = y\n",
    "    if P <= 0 or r <= 0:\n",
    "        return [0.0, 0.0]\n",
    "\n",
    "    try:\n",
    "        rho = rho_of_P(P)\n",
    "    except:\n",
    "        return [0.0, 0.0]\n",
    "\n",
    "    num = -G * (rho + P/c**2) * (m + 4*np.pi*r**3*P/c**2)\n",
    "    den = r**2 * (1 - (2*G*m)/(c**2 * r))\n",
    "    dPdr = num / den\n",
    "    dmdr = 4 * np.pi * r**2 * rho\n",
    "    return [dPdr, dmdr]\n"
   ]
  },
  {
   "cell_type": "code",
   "execution_count": 792,
   "id": "82947485-6096-4f7e-9248-34fbad10d3d1",
   "metadata": {
    "tags": []
   },
   "outputs": [],
   "source": [
    "def surface(r, y): \n",
    "    return y[0]\n",
    "surface.terminal = True\n",
    "surface.direction = -1\n",
    "\n",
    "def integrate_P_r(rho_c):\n",
    "    P0 = P_of_rho(rho_c)\n",
    "    m0 = (4/3) * np.pi * rho_c * (1.0)**3      # small initial mass\n",
    "    y0 = [P0, m0]\n",
    "\n",
    "    sol = solve_ivp(\n",
    "        tov_rhs,\n",
    "        (1.0, 2e6), y0,\n",
    "        method='RK45',\n",
    "        events=surface,\n",
    "        rtol=1e-6,\n",
    "        atol=1e-9,\n",
    "        max_step=100.0\n",
    "    )\n",
    "\n",
    "    return sol"
   ]
  },
  {
   "cell_type": "code",
   "execution_count": 793,
   "id": "bd25655d-9e8f-4059-955a-698e95f7ee98",
   "metadata": {
    "tags": []
   },
   "outputs": [
    {
     "name": "stdout",
     "output_type": "stream",
     "text": [
      "Integration failed — P did not reach 0.\n",
      "Final pressure: 3.6456838132704667e+31 Pa at r = 10.233752861313397 km\n"
     ]
    },
    {
     "data": {
      "image/png": "[encoded data removed]",
      "text/plain": [
       "<Figure size 640x480 with 1 Axes>"
      ]
     },
     "metadata": {},
     "output_type": "display_data"
    }
   ],
   "source": [
    "rho_c = 2e18                       # central density\n",
    "sol = integrate_P_r(rho_c)\n",
    "\n",
    "if sol and sol.status == 1:\n",
    "    print(f' Integration successful. Surface at r = {sol.t_events[0][0] / 1e3} km')\n",
    "    plt.plot(sol.t / 1e3, sol.y[0])\n",
    "    plt.xlabel('Radius (km)')\n",
    "    plt.ylabel(' Pressure (Pa)')\n",
    "    plt.title('Pressure and Radius from TOV')\n",
    "    plt.grid(True)\n",
    "    plt.show()\n",
    "else:\n",
    "    print('Integration failed — P did not reach 0.')\n",
    "    if sol:\n",
    "        print(f'Final pressure: {sol.y[0,-1]} Pa at r = {sol.t[-1] / 1e3} km')\n",
    "        plt.plot(sol.t / 1e3, sol.y[0])\n",
    "        plt.xlabel(\"Radius (km)\")\n",
    "        plt.ylabel(\"Pressure (Pa)\")\n",
    "        plt.title('Pressure and Radius model')\n",
    "        plt.grid(True)\n",
    "        plt.show()"
   ]
  },
  {
   "cell_type": "code",
   "execution_count": null,
   "id": "1eebb767-bc54-4cf1-aee1-6bc2652c43fa",
   "metadata": {},
   "outputs": [],
   "source": []
  },
  {
   "cell_type": "code",
   "execution_count": null,
   "id": "f284c190-f828-453f-abec-94eb2862d529",
   "metadata": {},
   "outputs": [],
   "source": []
  },
  {
   "cell_type": "markdown",
   "id": "6aea4eb7-a617-48af-bf0f-c7eeb813b37b",
   "metadata": {},
   "source": [
    "### 3. TOV - Mass and radius model"
   ]
  },
  {
   "cell_type": "code",
   "execution_count": 794,
   "id": "c5f21b8d-4584-44e9-9709-f81b5121deb7",
   "metadata": {},
   "outputs": [],
   "source": [
    "##"
   ]
  },
  {
   "cell_type": "code",
   "execution_count": 795,
   "id": "6428812c-a9c4-48a5-93ed-33a96f863883",
   "metadata": {
    "tags": []
   },
   "outputs": [],
   "source": [
    "def integrate_star(rho_c):\n",
    "    try:\n",
    "        Pc = float(P_of_rho(rho_c))\n",
    "    except Exception:\n",
    "        return np.nan, np.nan, None\n",
    "\n",
    "    r0 = 1e-4\n",
    "    m0 = 4/3 * np.pi * rho_c * r0**3\n",
    "    y0 = [Pc, m0]\n",
    "\n",
    "    sol = solve_ivp(tov_rhs, (r0, 5e6), y0,\n",
    "                    method='RK45', events=surface,\n",
    "                    rtol=1e-5, atol=1e-8, max_step=100)\n",
    "    \n",
    "    if sol.t_events[0].size == 0:\n",
    "        return np.nan, np.nan, sol  # Didn't reach P=0\n",
    "    R = sol.t_events[0][0]\n",
    "    M = sol.y[1][-1]\n",
    "    return R / km, M / M_sun, sol"
   ]
  },
  {
   "cell_type": "code",
   "execution_count": null,
   "id": "b518c327-12cf-47da-afbf-2638d1b2f977",
   "metadata": {
    "tags": []
   },
   "outputs": [],
   "source": [
    "'''# central densities (in kg/m³)\n",
    "rho_c_list = np.logspace(17, 18, 25)\n",
    "\n",
    "R_list, M_list = [], []\n",
    "print(\"Running TOV integrations...\\n\")\n",
    "\n",
    "for rho_c in rho_c_list:\n",
    "    R, M, sol = integrate_star(rho_c)\n",
    "    if not np.isnan(R):\n",
    "        print(f\"ρc = {rho_c} → R = {R} km, M = {M} M☉\")\n",
    "        R_list.append(R)\n",
    "        M_list.append(M)\n",
    "    else:\n",
    "        print(f\"✗ ρc = {rho_c:.2e} → Failed\")\n",
    "\n",
    "# Plot\n",
    "plt.figure(figsize=(8, 5))\n",
    "plt.plot(R_list, M_list, 'o-', color='darkblue')\n",
    "plt.xlabel(\"Radius $R$ (km)\")\n",
    "plt.ylabel(\"Mass $M$ (M$_\\odot$)\")\n",
    "plt.title(\"Neutron Star Mass-Radius Curve (from EoS + TOV)\")\n",
    "plt.grid(True)\n",
    "plt.tight_layout()\n",
    "plt.show()'''"
   ]
  },
  {
   "cell_type": "code",
   "execution_count": null,
   "id": "6de29ec2-c212-4bf2-bb5a-634adcdba0ac",
   "metadata": {
    "tags": []
   },
   "outputs": [],
   "source": [
    "##"
   ]
  },
  {
   "cell_type": "code",
   "execution_count": null,
   "id": "cdb25f7a-9127-4521-bd47-47620ad6273c",
   "metadata": {},
   "outputs": [],
   "source": [
    "##"
   ]
  }
 ],
 "metadata": {
  "kernelspec": {
   "display_name": "Python 3 (ipykernel)",
   "language": "python",
   "name": "python3"
  },
  "language_info": {
   "codemirror_mode": {
    "name": "ipython",
    "version": 3
   },
   "file_extension": ".py",
   "mimetype": "text/x-python",
   "name": "python",
   "nbconvert_exporter": "python",
   "pygments_lexer": "ipython3",
   "version": "3.11.5"
  }
 },
 "nbformat": 4,
 "nbformat_minor": 5
}
