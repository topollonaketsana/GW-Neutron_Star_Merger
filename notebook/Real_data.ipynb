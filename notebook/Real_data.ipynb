{
 "cells": [
  {
   "cell_type": "markdown",
   "id": "1003b9e6-eb26-4197-9ae5-053222d8f00b",
   "metadata": {},
   "source": [
    "## Neutron Star Mergers project\n",
    "\n",
    "## Overview\n",
    "**Notebook Author:** Topollo Naketsana (University of the Western Cape)<br>\n",
    "\n",
    "**Paper:** [here]()"
   ]
  },
  {
   "cell_type": "markdown",
   "id": "e74c752f-12f1-41b9-8500-ed838f89fa63",
   "metadata": {},
   "source": [
    "### Background:\n"
   ]
  },
  {
   "cell_type": "code",
   "execution_count": 319,
   "id": "8ce650e6-f94e-45f9-921e-7c2ccf0a532c",
   "metadata": {
    "tags": []
   },
   "outputs": [],
   "source": [
    "import matplotlib.pyplot as plt\n",
    "import numpy as np\n",
    "import pandas as pd\n",
    "import seaborn as sns\n",
    "from scipy.interpolate import interp1d, PchipInterpolator\n",
    "from scipy.integrate import solve_ivp"
   ]
  },
  {
   "cell_type": "code",
   "execution_count": 320,
   "id": "bc965457-f693-4c75-963b-100d1e980060",
   "metadata": {
    "tags": []
   },
   "outputs": [],
   "source": [
    "# load data\n",
    "data = pd.read_csv('../data/Parametrized_data.dat')"
   ]
  },
  {
   "cell_type": "code",
   "execution_count": 321,
   "id": "bb413fb1-6cef-4a2c-9886-be26a2b9a94f",
   "metadata": {
    "tags": []
   },
   "outputs": [
    {
     "data": {
      "text/html": [
       "<div>\n",
       "<style scoped>\n",
       "    .dataframe tbody tr th:only-of-type {\n",
       "        vertical-align: middle;\n",
       "    }\n",
       "\n",
       "    .dataframe tbody tr th {\n",
       "        vertical-align: top;\n",
       "    }\n",
       "\n",
       "    .dataframe thead th {\n",
       "        text-align: right;\n",
       "    }\n",
       "</style>\n",
       "<table border=\"1\" class=\"dataframe\">\n",
       "  <thead>\n",
       "    <tr style=\"text-align: right;\">\n",
       "      <th></th>\n",
       "      <th>m1_source_frame_Msun</th>\n",
       "      <th>m2_source_frame_Msun</th>\n",
       "      <th>Lambda1</th>\n",
       "      <th>Lambda2</th>\n",
       "      <th>Radius1_km</th>\n",
       "      <th>Radius2_km</th>\n",
       "    </tr>\n",
       "  </thead>\n",
       "  <tbody>\n",
       "    <tr>\n",
       "      <th>0</th>\n",
       "      <td>1.637296</td>\n",
       "      <td>1.140765</td>\n",
       "      <td>66.373870</td>\n",
       "      <td>723.523060</td>\n",
       "      <td>10.887391</td>\n",
       "      <td>11.097352</td>\n",
       "    </tr>\n",
       "    <tr>\n",
       "      <th>1</th>\n",
       "      <td>1.612825</td>\n",
       "      <td>1.156845</td>\n",
       "      <td>191.207304</td>\n",
       "      <td>1335.339873</td>\n",
       "      <td>12.402063</td>\n",
       "      <td>12.349246</td>\n",
       "    </tr>\n",
       "    <tr>\n",
       "      <th>2</th>\n",
       "      <td>1.563015</td>\n",
       "      <td>1.191614</td>\n",
       "      <td>200.526550</td>\n",
       "      <td>1156.272842</td>\n",
       "      <td>12.285450</td>\n",
       "      <td>12.501216</td>\n",
       "    </tr>\n",
       "    <tr>\n",
       "      <th>3</th>\n",
       "      <td>1.625307</td>\n",
       "      <td>1.148567</td>\n",
       "      <td>134.833116</td>\n",
       "      <td>1439.597356</td>\n",
       "      <td>12.141489</td>\n",
       "      <td>12.627265</td>\n",
       "    </tr>\n",
       "    <tr>\n",
       "      <th>4</th>\n",
       "      <td>1.625909</td>\n",
       "      <td>1.148243</td>\n",
       "      <td>177.099466</td>\n",
       "      <td>1428.281697</td>\n",
       "      <td>12.399686</td>\n",
       "      <td>12.426146</td>\n",
       "    </tr>\n",
       "    <tr>\n",
       "      <th>...</th>\n",
       "      <td>...</td>\n",
       "      <td>...</td>\n",
       "      <td>...</td>\n",
       "      <td>...</td>\n",
       "      <td>...</td>\n",
       "      <td>...</td>\n",
       "    </tr>\n",
       "    <tr>\n",
       "      <th>2391</th>\n",
       "      <td>1.456157</td>\n",
       "      <td>1.275411</td>\n",
       "      <td>271.138172</td>\n",
       "      <td>593.167994</td>\n",
       "      <td>11.771023</td>\n",
       "      <td>11.732749</td>\n",
       "    </tr>\n",
       "    <tr>\n",
       "      <th>2392</th>\n",
       "      <td>1.363036</td>\n",
       "      <td>1.361102</td>\n",
       "      <td>275.144868</td>\n",
       "      <td>277.559025</td>\n",
       "      <td>11.146219</td>\n",
       "      <td>11.146212</td>\n",
       "    </tr>\n",
       "    <tr>\n",
       "      <th>2393</th>\n",
       "      <td>1.547311</td>\n",
       "      <td>1.202998</td>\n",
       "      <td>308.382837</td>\n",
       "      <td>1352.958123</td>\n",
       "      <td>12.800400</td>\n",
       "      <td>12.770993</td>\n",
       "    </tr>\n",
       "    <tr>\n",
       "      <th>2394</th>\n",
       "      <td>1.379074</td>\n",
       "      <td>1.345569</td>\n",
       "      <td>253.244553</td>\n",
       "      <td>293.279550</td>\n",
       "      <td>11.077769</td>\n",
       "      <td>11.070750</td>\n",
       "    </tr>\n",
       "    <tr>\n",
       "      <th>2395</th>\n",
       "      <td>1.431397</td>\n",
       "      <td>1.296661</td>\n",
       "      <td>149.341066</td>\n",
       "      <td>279.713550</td>\n",
       "      <td>10.668988</td>\n",
       "      <td>10.683169</td>\n",
       "    </tr>\n",
       "  </tbody>\n",
       "</table>\n",
       "<p>2396 rows × 6 columns</p>\n",
       "</div>"
      ],
      "text/plain": [
       "      m1_source_frame_Msun  m2_source_frame_Msun     Lambda1      Lambda2  \\\n",
       "0                 1.637296              1.140765   66.373870   723.523060   \n",
       "1                 1.612825              1.156845  191.207304  1335.339873   \n",
       "2                 1.563015              1.191614  200.526550  1156.272842   \n",
       "3                 1.625307              1.148567  134.833116  1439.597356   \n",
       "4                 1.625909              1.148243  177.099466  1428.281697   \n",
       "...                    ...                   ...         ...          ...   \n",
       "2391              1.456157              1.275411  271.138172   593.167994   \n",
       "2392              1.363036              1.361102  275.144868   277.559025   \n",
       "2393              1.547311              1.202998  308.382837  1352.958123   \n",
       "2394              1.379074              1.345569  253.244553   293.279550   \n",
       "2395              1.431397              1.296661  149.341066   279.713550   \n",
       "\n",
       "      Radius1_km  Radius2_km  \n",
       "0      10.887391   11.097352  \n",
       "1      12.402063   12.349246  \n",
       "2      12.285450   12.501216  \n",
       "3      12.141489   12.627265  \n",
       "4      12.399686   12.426146  \n",
       "...          ...         ...  \n",
       "2391   11.771023   11.732749  \n",
       "2392   11.146219   11.146212  \n",
       "2393   12.800400   12.770993  \n",
       "2394   11.077769   11.070750  \n",
       "2395   10.668988   10.683169  \n",
       "\n",
       "[2396 rows x 6 columns]"
      ]
     },
     "execution_count": 321,
     "metadata": {},
     "output_type": "execute_result"
    }
   ],
   "source": [
    "data"
   ]
  },
  {
   "cell_type": "code",
   "execution_count": null,
   "id": "e2e94ebf-3e7c-4ec0-bc63-4e2aaf37bee4",
   "metadata": {},
   "outputs": [],
   "source": []
  },
  {
   "cell_type": "code",
   "execution_count": 322,
   "id": "e1b17cc7-2265-4826-9e2f-b9fb2b6eb371",
   "metadata": {
    "tags": []
   },
   "outputs": [
    {
     "name": "stdout",
     "output_type": "stream",
     "text": [
      "<class 'pandas.core.frame.DataFrame'>\n",
      "RangeIndex: 2396 entries, 0 to 2395\n",
      "Data columns (total 6 columns):\n",
      " #   Column                Non-Null Count  Dtype  \n",
      "---  ------                --------------  -----  \n",
      " 0   m1_source_frame_Msun  2396 non-null   float64\n",
      " 1   m2_source_frame_Msun  2396 non-null   float64\n",
      " 2   Lambda1               2396 non-null   float64\n",
      " 3   Lambda2               2396 non-null   float64\n",
      " 4   Radius1_km            2396 non-null   float64\n",
      " 5   Radius2_km            2396 non-null   float64\n",
      "dtypes: float64(6)\n",
      "memory usage: 112.4 KB\n"
     ]
    }
   ],
   "source": [
    "data.info()"
   ]
  },
  {
   "cell_type": "code",
   "execution_count": 323,
   "id": "b91717d3-c95e-49fa-bba6-b354b01a4fcb",
   "metadata": {
    "tags": []
   },
   "outputs": [
    {
     "data": {
      "text/plain": [
       "(2396, 6)"
      ]
     },
     "execution_count": 323,
     "metadata": {},
     "output_type": "execute_result"
    }
   ],
   "source": [
    "# shape\n",
    "data.shape"
   ]
  },
  {
   "cell_type": "code",
   "execution_count": 325,
   "id": "76c2f739-779f-4806-95ff-7605d6e77856",
   "metadata": {
    "tags": []
   },
   "outputs": [
    {
     "data": {
      "text/plain": [
       "m1_source_frame_Msun    0.0\n",
       "m2_source_frame_Msun    0.0\n",
       "Lambda1                 0.0\n",
       "Lambda2                 0.0\n",
       "Radius1_km              0.0\n",
       "Radius2_km              0.0\n",
       "dtype: float64"
      ]
     },
     "execution_count": 325,
     "metadata": {},
     "output_type": "execute_result"
    }
   ],
   "source": [
    "# the missing values\n",
    "data.isna().mean()"
   ]
  },
  {
   "cell_type": "code",
   "execution_count": 326,
   "id": "c5d64c4a-611a-424e-9de4-07b1f992238e",
   "metadata": {
    "tags": []
   },
   "outputs": [],
   "source": [
    "# define m1 and m2 as well as their radii\n",
    "M1 = data['m1_source_frame_Msun']\n",
    "M2 = data['m2_source_frame_Msun']\n",
    "\n",
    "# radii\n",
    "R1 = data['Radius1_km']\n",
    "R2 = data['Radius2_km']"
   ]
  },
  {
   "cell_type": "code",
   "execution_count": 327,
   "id": "190c429c-9cad-4ca8-bd2d-5e9f66b4a142",
   "metadata": {
    "tags": []
   },
   "outputs": [
    {
     "data": {
      "text/plain": [
       "0       1.637296\n",
       "1       1.612825\n",
       "2       1.563015\n",
       "3       1.625307\n",
       "4       1.625909\n",
       "          ...   \n",
       "2391    1.456157\n",
       "2392    1.363036\n",
       "2393    1.547311\n",
       "2394    1.379074\n",
       "2395    1.431397\n",
       "Name: m1_source_frame_Msun, Length: 2396, dtype: float64"
      ]
     },
     "execution_count": 327,
     "metadata": {},
     "output_type": "execute_result"
    }
   ],
   "source": [
    "M1"
   ]
  },
  {
   "cell_type": "markdown",
   "id": "2693b1cb-6684-41ea-9355-ae414ca36b93",
   "metadata": {},
   "source": []
  },
  {
   "cell_type": "code",
   "execution_count": 328,
   "id": "5b19d295-65b1-4170-9669-4b2b01798139",
   "metadata": {
    "tags": []
   },
   "outputs": [
    {
     "data": {
      "text/plain": [
       "Text(0.5, 0, 'Mass (solar masses)')"
      ]
     },
     "execution_count": 328,
     "metadata": {},
     "output_type": "execute_result"
    },
    {
     "data": {
      "image/png": "[encoded data removed]",
      "text/plain": [
       "<Figure size 640x480 with 1 Axes>"
      ]
     },
     "metadata": {},
     "output_type": "display_data"
    }
   ],
   "source": [
    "# plot the distribution of massess\n",
    "sns.histplot(M1)\n",
    "sns.histplot(M2)\n",
    "\n",
    "plt.title('Distribution of Masses for two Neutron stars')\n",
    "plt.xlabel('Mass (solar masses)')"
   ]
  },
  {
   "cell_type": "code",
   "execution_count": 329,
   "id": "4cf7ec4d-6e99-407c-897d-f22eb82d2188",
   "metadata": {
    "tags": []
   },
   "outputs": [
    {
     "data": {
      "text/plain": [
       "Text(0.5, 0, 'Radius (km)')"
      ]
     },
     "execution_count": 329,
     "metadata": {},
     "output_type": "execute_result"
    },
    {
     "data": {
      "image/png": "[encoded data removed]",
      "text/plain": [
       "<Figure size 640x480 with 1 Axes>"
      ]
     },
     "metadata": {},
     "output_type": "display_data"
    }
   ],
   "source": [
    "# plot the distribution of radii\n",
    "sns.histplot(R1)\n",
    "sns.histplot(R2)\n",
    "\n",
    "plt.title('Distribution of radii for two Neutron stars')\n",
    "plt.xlabel('Radius (km)')"
   ]
  },
  {
   "cell_type": "markdown",
   "id": "7e65aa64-a230-4a8f-9788-d15981a92671",
   "metadata": {},
   "source": [
    "## Background"
   ]
  },
  {
   "cell_type": "markdown",
   "id": "0cda5ed2-d80f-4f91-a929-7b5675406e4c",
   "metadata": {},
   "source": [
    "### Orbital Frequency vs Mass and Radius\n",
    "\n",
    "The orbital frequency \\( f \\) of a binary neutron star system can be related to the total mass \\( M = M_1 + M_2 \\) and the orbital separation \\( r \\) as:\n",
    "\n",
    "$$\n",
    "f = \\frac{1}{2\\pi} \\sqrt{ \\frac{G M}{r^3} }\n",
    "$$\n",
    "\n",
    "This equation is derived from Kepler's third law and Newtonian gravity, assuming a circular orbit. It allows us to explore how frequency changes with varying mass and orbital radius, as shown in the following plot.\n"
   ]
  },
  {
   "cell_type": "code",
   "execution_count": 330,
   "id": "649a2eb0-dca6-46b9-adeb-c920f830941d",
   "metadata": {
    "tags": []
   },
   "outputs": [],
   "source": [
    "M_total = (M1+M2)"
   ]
  },
  {
   "cell_type": "code",
   "execution_count": 331,
   "id": "d6237c7f-a8d8-4770-8aa8-4c5029986974",
   "metadata": {
    "tags": []
   },
   "outputs": [
    {
     "data": {
      "image/png": "[encoded data removed]",
      "text/plain": [
       "<Figure size 800x500 with 1 Axes>"
      ]
     },
     "metadata": {},
     "output_type": "display_data"
    }
   ],
   "source": [
    "# variables\n",
    "f = 1000\n",
    "G = 6.67430e-11\n",
    "c = 3e8\n",
    "M_sun = 1.98847e30\n",
    "M_total = M1+M2\n",
    "R_km = 1e3\n",
    "\n",
    "# function\n",
    "separation_r = lambda M_total, f: (\n",
    "    (G * (M_total*M_sun) / (2 * np.pi * f)**2) ** (1/3) / R_km)\n",
    "\n",
    "r_km = separation_r(M_total, f)              \n",
    "#print(f'Separation = {r_km} km')\n",
    "\n",
    "\n",
    "# Compute separations\n",
    "#r_range = np.array([separation_r(M, f) for M in M_range])\n",
    "\n",
    "# Plotting\n",
    "plt.figure(figsize= (8, 5))\n",
    "plt.scatter(M_total, r_km, color= 'darkblue', marker= '.')\n",
    "plt.title(f\"Orbital Separation vs Mass at Hz\")\n",
    "plt.xlabel(\"Total Mass $M$ (M$_\\\\odot$)\")\n",
    "plt.ylabel(\"Orbital Separation $r$ (km)\")\n",
    "plt.grid(True)\n",
    "plt.tight_layout()\n",
    "plt.show()"
   ]
  },
  {
   "cell_type": "markdown",
   "id": "24a6923a-b408-4793-9143-48820ac361f3",
   "metadata": {},
   "source": []
  },
  {
   "cell_type": "markdown",
   "id": "316a1b3e-9801-4f7f-828b-be09fcbc239d",
   "metadata": {},
   "source": [
    "## Mass - Radius relation"
   ]
  },
  {
   "cell_type": "code",
   "execution_count": null,
   "id": "aa8b1124-6445-48c7-9b4f-bc66424080a4",
   "metadata": {},
   "outputs": [],
   "source": []
  },
  {
   "cell_type": "code",
   "execution_count": 417,
   "id": "de91effe-2af7-48ea-8786-d263f82feeef",
   "metadata": {
    "tags": []
   },
   "outputs": [
    {
     "data": {
      "text/plain": [
       "\"# theoretical curve \\ndef theoretical_mass_radius(r):\\n    return 2.0 - 0.1 * (r - 10)**2  \\n\\nr_theory = np.linspace(8, 12, 100)\\nm_theory = theoretical_mass_radius(r_theory)\\n\\nplt.plot(r_theory, m_theory, '--', label='Theoretical Model')\\nplt.legend()\""
      ]
     },
     "execution_count": 417,
     "metadata": {},
     "output_type": "execute_result"
    }
   ],
   "source": [
    "'''# theoretical curve \n",
    "def theoretical_mass_radius(r):\n",
    "    return 2.0 - 0.1 * (r - 10)**2  \n",
    "\n",
    "r_theory = np.linspace(8, 12, 100)\n",
    "m_theory = theoretical_mass_radius(r_theory)\n",
    "\n",
    "plt.plot(r_theory, m_theory, '--', label='Theoretical Model')\n",
    "plt.legend()'''"
   ]
  },
  {
   "cell_type": "code",
   "execution_count": null,
   "id": "33a043a2-35c1-4812-a549-0e8a0e0c47d6",
   "metadata": {
    "tags": []
   },
   "outputs": [],
   "source": [
    "\n"
   ]
  },
  {
   "cell_type": "markdown",
   "id": "f428c34f-823c-4061-a96d-268d2e8ee728",
   "metadata": {},
   "source": [
    "### Equation of State (EoS) + General relativity  =>  TOV\n",
    "\n",
    "We assume a **polytropic equation of state**:\n",
    "\n",
    "$\n",
    "P = K \\rho^\\gamma\n",
    "$\n",
    "\n",
    "where:\n",
    "- P  is the pressure\n",
    "- $\\rho$  is the energy density\n",
    "- \\( K \\) is the polytropic constant\n",
    "- \\( $\\gamma$ \\) is the adiabatic index (e.g. \\( $\\gamma$ = 2 \\))\n",
    "\n",
    "\n",
    "### TOV with a Realistic Equation of State\n",
    "\n",
    "Steps:\n",
    "\n",
    "1.  Load EoS (columns: ρ [kg m⁻³], P [Pa]).\n",
    "2.  Create interpolating functions  P(ρ)  and  ρ(P).\n",
    "3.  Integrate the TOV ODEs,    \n",
    "      $\\frac{dm}{dr}=4\\pi r^{2}\\rho,\\qquad$\n",
    "    .\n",
    "                          \n",
    "4.  Stop when $P\\to0$ to obtain the stellar radius \\(R\\).\n",
    "5.  Repeat for many ρ\\(_c\\) to obtain the M–R curve.\n",
    "\n"
   ]
  },
  {
   "cell_type": "code",
   "execution_count": 418,
   "id": "c920daa9-44e3-4ac3-8255-46b929a3d189",
   "metadata": {
    "tags": []
   },
   "outputs": [
    {
     "data": {
      "text/html": [
       "<div>\n",
       "<style scoped>\n",
       "    .dataframe tbody tr th:only-of-type {\n",
       "        vertical-align: middle;\n",
       "    }\n",
       "\n",
       "    .dataframe tbody tr th {\n",
       "        vertical-align: top;\n",
       "    }\n",
       "\n",
       "    .dataframe thead th {\n",
       "        text-align: right;\n",
       "    }\n",
       "</style>\n",
       "<table border=\"1\" class=\"dataframe\">\n",
       "  <thead>\n",
       "    <tr style=\"text-align: right;\">\n",
       "      <th></th>\n",
       "      <th>log_density_cgs</th>\n",
       "      <th>log_pressure_5pc_cgs</th>\n",
       "      <th>log_pressure_25pc_cgs</th>\n",
       "      <th>log_pressure_75pc_cgs</th>\n",
       "      <th>log_pressure_95pc_cgs</th>\n",
       "    </tr>\n",
       "  </thead>\n",
       "  <tbody>\n",
       "    <tr>\n",
       "      <th>0</th>\n",
       "      <td>14.0000</td>\n",
       "      <td>32.561779</td>\n",
       "      <td>32.562330</td>\n",
       "      <td>32.563101</td>\n",
       "      <td>32.563390</td>\n",
       "    </tr>\n",
       "    <tr>\n",
       "      <th>1</th>\n",
       "      <td>14.0152</td>\n",
       "      <td>32.587335</td>\n",
       "      <td>32.587378</td>\n",
       "      <td>32.587511</td>\n",
       "      <td>32.587637</td>\n",
       "    </tr>\n",
       "    <tr>\n",
       "      <th>2</th>\n",
       "      <td>14.0303</td>\n",
       "      <td>32.611438</td>\n",
       "      <td>32.611899</td>\n",
       "      <td>32.613190</td>\n",
       "      <td>32.614130</td>\n",
       "    </tr>\n",
       "    <tr>\n",
       "      <th>3</th>\n",
       "      <td>14.0455</td>\n",
       "      <td>32.635921</td>\n",
       "      <td>32.636741</td>\n",
       "      <td>32.639004</td>\n",
       "      <td>32.640570</td>\n",
       "    </tr>\n",
       "    <tr>\n",
       "      <th>4</th>\n",
       "      <td>14.0606</td>\n",
       "      <td>32.661113</td>\n",
       "      <td>32.662041</td>\n",
       "      <td>32.664467</td>\n",
       "      <td>32.666057</td>\n",
       "    </tr>\n",
       "    <tr>\n",
       "      <th>...</th>\n",
       "      <td>...</td>\n",
       "      <td>...</td>\n",
       "      <td>...</td>\n",
       "      <td>...</td>\n",
       "      <td>...</td>\n",
       "    </tr>\n",
       "    <tr>\n",
       "      <th>95</th>\n",
       "      <td>15.4394</td>\n",
       "      <td>36.124063</td>\n",
       "      <td>36.370507</td>\n",
       "      <td>36.587263</td>\n",
       "      <td>36.745616</td>\n",
       "    </tr>\n",
       "    <tr>\n",
       "      <th>96</th>\n",
       "      <td>15.4545</td>\n",
       "      <td>36.144654</td>\n",
       "      <td>36.399896</td>\n",
       "      <td>36.624444</td>\n",
       "      <td>36.781883</td>\n",
       "    </tr>\n",
       "    <tr>\n",
       "      <th>97</th>\n",
       "      <td>15.4697</td>\n",
       "      <td>36.164036</td>\n",
       "      <td>36.427712</td>\n",
       "      <td>36.659637</td>\n",
       "      <td>36.816517</td>\n",
       "    </tr>\n",
       "    <tr>\n",
       "      <th>98</th>\n",
       "      <td>15.4848</td>\n",
       "      <td>36.184599</td>\n",
       "      <td>36.455837</td>\n",
       "      <td>36.696234</td>\n",
       "      <td>36.853259</td>\n",
       "    </tr>\n",
       "    <tr>\n",
       "      <th>99</th>\n",
       "      <td>15.5000</td>\n",
       "      <td>36.205451</td>\n",
       "      <td>36.483792</td>\n",
       "      <td>36.732186</td>\n",
       "      <td>36.888304</td>\n",
       "    </tr>\n",
       "  </tbody>\n",
       "</table>\n",
       "<p>100 rows × 5 columns</p>\n",
       "</div>"
      ],
      "text/plain": [
       "    log_density_cgs  log_pressure_5pc_cgs  log_pressure_25pc_cgs  \\\n",
       "0           14.0000             32.561779              32.562330   \n",
       "1           14.0152             32.587335              32.587378   \n",
       "2           14.0303             32.611438              32.611899   \n",
       "3           14.0455             32.635921              32.636741   \n",
       "4           14.0606             32.661113              32.662041   \n",
       "..              ...                   ...                    ...   \n",
       "95          15.4394             36.124063              36.370507   \n",
       "96          15.4545             36.144654              36.399896   \n",
       "97          15.4697             36.164036              36.427712   \n",
       "98          15.4848             36.184599              36.455837   \n",
       "99          15.5000             36.205451              36.483792   \n",
       "\n",
       "    log_pressure_75pc_cgs  log_pressure_95pc_cgs  \n",
       "0               32.563101              32.563390  \n",
       "1               32.587511              32.587637  \n",
       "2               32.613190              32.614130  \n",
       "3               32.639004              32.640570  \n",
       "4               32.664467              32.666057  \n",
       "..                    ...                    ...  \n",
       "95              36.587263              36.745616  \n",
       "96              36.624444              36.781883  \n",
       "97              36.659637              36.816517  \n",
       "98              36.696234              36.853259  \n",
       "99              36.732186              36.888304  \n",
       "\n",
       "[100 rows x 5 columns]"
      ]
     },
     "execution_count": 418,
     "metadata": {},
     "output_type": "execute_result"
    }
   ],
   "source": [
    "# columns  rho[kg/m^3], P[Pa]\n",
    "path = '../data/Pressure_density_credible_levels.dat'\n",
    "df = pd.read_csv(path)\n",
    "\n",
    "df"
   ]
  },
  {
   "cell_type": "code",
   "execution_count": 334,
   "id": "d157f356-145f-4826-8991-0955181e3942",
   "metadata": {
    "tags": []
   },
   "outputs": [
    {
     "name": "stdout",
     "output_type": "stream",
     "text": [
      "<class 'pandas.core.frame.DataFrame'>\n",
      "RangeIndex: 100 entries, 0 to 99\n",
      "Data columns (total 5 columns):\n",
      " #   Column                 Non-Null Count  Dtype  \n",
      "---  ------                 --------------  -----  \n",
      " 0   log_density_cgs        100 non-null    float64\n",
      " 1   log_pressure_5pc_cgs   100 non-null    float64\n",
      " 2   log_pressure_25pc_cgs  100 non-null    float64\n",
      " 3   log_pressure_75pc_cgs  100 non-null    float64\n",
      " 4   log_pressure_95pc_cgs  100 non-null    float64\n",
      "dtypes: float64(5)\n",
      "memory usage: 4.0 KB\n"
     ]
    }
   ],
   "source": [
    "df.info()"
   ]
  },
  {
   "cell_type": "code",
   "execution_count": 335,
   "id": "68250b48-2464-4c4d-9497-5cb5a8b1478c",
   "metadata": {
    "tags": []
   },
   "outputs": [
    {
     "name": "stdout",
     "output_type": "stream",
     "text": [
      "df shape : (100, 5)\n"
     ]
    }
   ],
   "source": [
    "print(\"df shape :\", df.shape)                "
   ]
  },
  {
   "cell_type": "markdown",
   "id": "a2271e69-398f-43b9-a3d8-9d10dc2b72c7",
   "metadata": {},
   "source": [
    "#####"
   ]
  },
  {
   "cell_type": "code",
   "execution_count": 402,
   "id": "56ba252e-0ff6-4689-8711-8835e2127c86",
   "metadata": {
    "tags": []
   },
   "outputs": [],
   "source": [
    "# constants\n",
    "G = 6.67430e-11\n",
    "c = 299792458.0\n",
    "M_sun = 1.98847e30\n",
    "km = 1e3"
   ]
  },
  {
   "cell_type": "code",
   "execution_count": 403,
   "id": "150481f1-d6c0-451d-b234-c39952ee63f8",
   "metadata": {
    "tags": []
   },
   "outputs": [],
   "source": [
    "# log10 values\n",
    "rho_log = df['log_density_cgs'].values        # kg m^-3\n",
    "P_log   = df['log_pressure_5pc_cgs'].values          # Pa\n",
    "\n",
    "# convert to linear\n",
    "rho_si = 10**rho_log * 1e3      #  kg m^-3\n",
    "P_si  = 10**P_log  * 0.1       # Pa"
   ]
  },
  {
   "cell_type": "code",
   "execution_count": 404,
   "id": "4257b581-2a16-4211-b86c-f591373e80b4",
   "metadata": {
    "tags": []
   },
   "outputs": [],
   "source": [
    "# Make sure arrays are sorted by density (ascending)\n",
    "order = np.argsort(rho_si)\n",
    "rho_si = rho_si[order]\n",
    "P_si   = P_si[order]"
   ]
  },
  {
   "cell_type": "code",
   "execution_count": 337,
   "id": "4895b5f6-9670-4f19-bd99-73e2aa3e1817",
   "metadata": {
    "tags": []
   },
   "outputs": [
    {
     "name": "stdout",
     "output_type": "stream",
     "text": [
      "unique ρ : [14.     14.0152 14.0303 14.0455 14.0606] ...\n",
      "unique P : [32.561779 32.587335 32.611438 32.635921 32.661113] ...\n"
     ]
    }
   ],
   "source": [
    "print(\"unique ρ :\", np.unique(rho_log)[:5], \"...\")  \n",
    "print(\"unique P :\", np.unique(P_log)[:5], \"...\")"
   ]
  },
  {
   "cell_type": "code",
   "execution_count": 357,
   "id": "3cf06b08-0abc-46d2-b4be-aaf0fb3a79a5",
   "metadata": {
    "tags": []
   },
   "outputs": [
    {
     "data": {
      "image/png": "[encoded data removed]",
      "text/plain": [
       "<Figure size 700x500 with 1 Axes>"
      ]
     },
     "metadata": {},
     "output_type": "display_data"
    }
   ],
   "source": [
    "plt.figure(figsize=(7,5))\n",
    "plt.loglog(rho_si, P_si, 'o', label= 'data points')\n",
    "plt.xlabel(r'Density $\\rho$ (kg m$^{-3}$)')\n",
    "plt.ylabel(r'Pressure $P$ (Pa)')\n",
    "plt.title('Pressure vs Density')\n",
    "\n",
    "plt.legend()\n",
    "plt.tight_layout()\n",
    "plt.show()"
   ]
  },
  {
   "cell_type": "code",
   "execution_count": 405,
   "id": "a9bc83fe-4ac2-4dec-9d55-00093de06578",
   "metadata": {
    "tags": []
   },
   "outputs": [],
   "source": [
    "# Interpolators (rho) and rho(P)\n",
    "P_of_rho = PchipInterpolator(rho_si, P_si, extrapolate=False)\n",
    "rho_of_P = PchipInterpolator(P_si,  rho_si, extrapolate=False)"
   ]
  },
  {
   "cell_type": "code",
   "execution_count": 340,
   "id": "f2e92b1e-74d9-479e-b38f-2dec59af848b",
   "metadata": {
    "tags": []
   },
   "outputs": [],
   "source": []
  },
  {
   "cell_type": "code",
   "execution_count": 372,
   "id": "452d0c2f-4581-43a9-b03c-f8d98968549b",
   "metadata": {
    "tags": []
   },
   "outputs": [
    {
     "data": {
      "text/plain": [
       "\"P_hi = 10**df['log_pressure_95pc_cgs'] * 0.1\\nP_lo = 10**df['log_pressure_5pc_cgs']  * 0.1\\nplt.fill_between(rho, P_lo, P_hi, alpha=0.2, label='5–95\\u202f% band')\""
      ]
     },
     "execution_count": 372,
     "metadata": {},
     "output_type": "execute_result"
    }
   ],
   "source": [
    "'''P_hi = 10**df['log_pressure_95pc_cgs'] * 0.1\n",
    "P_lo = 10**df['log_pressure_5pc_cgs']  * 0.1\n",
    "plt.fill_between(rho, P_lo, P_hi, alpha=0.2, label='5–95 % band')'''"
   ]
  },
  {
   "cell_type": "code",
   "execution_count": null,
   "id": "0046e2bb-73a3-4567-92f6-8fe73777d8fd",
   "metadata": {},
   "outputs": [],
   "source": []
  },
  {
   "cell_type": "code",
   "execution_count": null,
   "id": "660b5c61-3500-409f-8713-44a2de682cc0",
   "metadata": {},
   "outputs": [],
   "source": []
  },
  {
   "cell_type": "code",
   "execution_count": 406,
   "id": "eaffe7cb-fb29-4bdb-a5ba-8d209b92200e",
   "metadata": {
    "tags": []
   },
   "outputs": [],
   "source": [
    "def tov_rhs(r, y):\n",
    "    P, m = y\n",
    "    if P <= 0: return [0, 0]\n",
    "    rho = rho_of_P(P)\n",
    "    dPdr = -(rho*c**2 + P) * (G*m + 4*np.pi*r**3*P/c**2) / (r * (r - 2*G*m/c**2))\n",
    "    dmdr = 4*np.pi*r**2*rho\n",
    "    return [dPdr, dmdr]\n"
   ]
  },
  {
   "cell_type": "code",
   "execution_count": 407,
   "id": "62142fc5-0ba4-4abc-9791-9cea7a1d01b8",
   "metadata": {
    "tags": []
   },
   "outputs": [],
   "source": [
    "def surface(r, y):\n",
    "    return y[0]          # P = 0\n",
    "surface.terminal  = True\n",
    "surface.direction = -1"
   ]
  },
  {
   "cell_type": "code",
   "execution_count": 408,
   "id": "d73ff613-7bda-4fef-826b-ce99ca6e7a12",
   "metadata": {
    "tags": []
   },
   "outputs": [],
   "source": [
    "def integrate_star(rho_c):\n",
    "    try:\n",
    "        Pc = float(P_of_rho(rho_c))\n",
    "    except ValueError:\n",
    "        return np.nan, np.nan                  # ρ outside table\n",
    "\n",
    "    r0 = 1e-4                                  # 0.1 mm\n",
    "    m0 = 4/3 * np.pi * rho_c * r0**3           # analytic mass seed\n",
    "    y0 = [Pc, m0]                              # P0 = Pc  (keeps P>0)\n",
    "\n",
    "    sol = solve_ivp(\n",
    "        tov_rhs, (r0, 5e7), y0,                # integrate to 10 000 km\n",
    "        events=surface,\n",
    "        method= 'Radau',                        # stiff solver\n",
    "        rtol= 1e-6, atol= 1e-8,\n",
    "        max_step= 50.0\n",
    "    )\n",
    "    if sol.t_events[0].size == 0:              # never reached P=0\n",
    "        return np.nan, np.nan\n",
    "    \n",
    "    R = sol.t_events[0][0]\n",
    "    M = sol.y[1, -1]\n",
    "    return R/km, M/M_sun                       # km, solar masses"
   ]
  },
  {
   "cell_type": "code",
   "execution_count": 409,
   "id": "5bca3d52-df80-4e68-b551-1ff494d2e02c",
   "metadata": {
    "tags": []
   },
   "outputs": [
    {
     "name": "stdout",
     "output_type": "stream",
     "text": [
      "Final pressure (P): -1.3924360111198426e+35\n"
     ]
    }
   ],
   "source": [
    "print(\"Final pressure (P):\", sol.y[0, -1])"
   ]
  },
  {
   "cell_type": "code",
   "execution_count": 376,
   "id": "e60204a5-bf58-4959-b28f-9c0cf832ee50",
   "metadata": {
    "tags": []
   },
   "outputs": [],
   "source": [
    "rho_min, rho_max = rho_si.min(), rho_si.max()\n",
    "central_rhos = np.logspace(np.log10(rho_min*1.05),\n",
    "                           np.log10(rho_max*0.95), 30)\n",
    "\n",
    "R_list, M_list = [], []\n",
    "for rc in central_rhos:\n",
    "    R, M = integrate_star(rc)\n",
    "    if not np.isnan(R):\n",
    "        R_list.append(R)\n",
    "        M_list.append(M)"
   ]
  },
  {
   "cell_type": "code",
   "execution_count": 419,
   "id": "435c88c9-f89a-43e1-a2f1-58f90fe2678e",
   "metadata": {
    "tags": []
   },
   "outputs": [
    {
     "data": {
      "text/plain": [
       "'plt.figure(figsize=(8,5))\\nplt.plot(R_list, M_list, \\'o-\\', color=\\'darkblue\\')\\nplt.xlabel(\"Radius $R$ (km)\")\\nplt.ylabel(\"Mass $M$ (M$_\\\\odot$)\")\\nplt.title(\"Neutron‑Star M–R Curve (TOV)\")\\nplt.grid(True)\\nplt.tight_layout()\\nplt.show()'"
      ]
     },
     "execution_count": 419,
     "metadata": {},
     "output_type": "execute_result"
    }
   ],
   "source": [
    "'''plt.figure(figsize=(8,5))\n",
    "plt.plot(R_list, M_list, 'o-', color='darkblue')\n",
    "plt.xlabel(\"Radius $R$ (km)\")\n",
    "plt.ylabel(\"Mass $M$ (M$_\\\\odot$)\")\n",
    "plt.title(\"Neutron‑Star M–R Curve (TOV)\")\n",
    "plt.grid(True)\n",
    "plt.tight_layout()\n",
    "plt.show()'''"
   ]
  },
  {
   "cell_type": "code",
   "execution_count": null,
   "id": "975d4250-b533-477b-8abf-993821a868d2",
   "metadata": {},
   "outputs": [],
   "source": []
  },
  {
   "cell_type": "code",
   "execution_count": null,
   "id": "1d2f7593-a403-410e-9c48-85dbab65b5cf",
   "metadata": {},
   "outputs": [],
   "source": []
  },
  {
   "cell_type": "code",
   "execution_count": null,
   "id": "1a54c327-c239-43ed-9065-3cacd3d2b732",
   "metadata": {},
   "outputs": [],
   "source": []
  },
  {
   "cell_type": "code",
   "execution_count": null,
   "id": "3f771173-18b7-455a-b7de-85f4179cd829",
   "metadata": {},
   "outputs": [],
   "source": []
  },
  {
   "cell_type": "code",
   "execution_count": null,
   "id": "07135a5a-94f6-4716-bf24-c1465ea2e9ea",
   "metadata": {},
   "outputs": [],
   "source": []
  },
  {
   "cell_type": "code",
   "execution_count": null,
   "id": "6a4c78ec-b627-4484-b8a3-dbbc602dd43c",
   "metadata": {
    "tags": []
   },
   "outputs": [],
   "source": []
  },
  {
   "cell_type": "code",
   "execution_count": null,
   "id": "2bb302ad-09b5-4aff-9fe7-dca1b1793ac9",
   "metadata": {
    "tags": []
   },
   "outputs": [],
   "source": [
    "\n"
   ]
  },
  {
   "cell_type": "code",
   "execution_count": null,
   "id": "4d3c6ad5-5b1a-4ce4-ad88-69c349bb613f",
   "metadata": {
    "tags": []
   },
   "outputs": [],
   "source": []
  },
  {
   "cell_type": "code",
   "execution_count": null,
   "id": "c549e136-8a8d-4b9d-a682-b9fd1025a720",
   "metadata": {},
   "outputs": [],
   "source": []
  },
  {
   "cell_type": "code",
   "execution_count": null,
   "id": "92dc4c04-ba08-420a-8421-214212dce811",
   "metadata": {},
   "outputs": [],
   "source": []
  },
  {
   "cell_type": "code",
   "execution_count": null,
   "id": "cbdcd5c4-a7f1-4a30-83e8-3b33615c23ed",
   "metadata": {},
   "outputs": [],
   "source": []
  },
  {
   "cell_type": "code",
   "execution_count": null,
   "id": "77b614c3-91b0-47d3-8347-c92f12ca25d1",
   "metadata": {},
   "outputs": [],
   "source": []
  },
  {
   "cell_type": "code",
   "execution_count": null,
   "id": "392d8ee5-dad7-4383-92b7-91af2f64469f",
   "metadata": {},
   "outputs": [],
   "source": []
  },
  {
   "cell_type": "code",
   "execution_count": null,
   "id": "2dd2dfdd-bc27-4259-882c-0bc50401292f",
   "metadata": {
    "tags": []
   },
   "outputs": [],
   "source": []
  },
  {
   "cell_type": "code",
   "execution_count": null,
   "id": "05914a9a-d8b8-48af-b36d-0ad2baacbbf5",
   "metadata": {},
   "outputs": [],
   "source": []
  }
 ],
 "metadata": {
  "kernelspec": {
   "display_name": "Python 3 (ipykernel)",
   "language": "python",
   "name": "python3"
  },
  "language_info": {
   "codemirror_mode": {
    "name": "ipython",
    "version": 3
   },
   "file_extension": ".py",
   "mimetype": "text/x-python",
   "name": "python",
   "nbconvert_exporter": "python",
   "pygments_lexer": "ipython3",
   "version": "3.11.5"
  }
 },
 "nbformat": 4,
 "nbformat_minor": 5
}
