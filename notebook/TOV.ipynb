{
 "cells": [
  {
   "cell_type": "markdown",
   "id": "218648ab-561f-4805-b72c-bb2b40573ae6",
   "metadata": {},
   "source": [
    "## Studying the binary system of Neutron Star"
   ]
  },
  {
   "cell_type": "markdown",
   "id": "48c74af7-a853-4e7e-b862-0dfa86709bda",
   "metadata": {},
   "source": [
    "### TOV - Before using Real Data\n",
    "\n",
    "We can derive the TOV equation from general relativity with the following assumptions:\n",
    "- static and,\n",
    "- spherically symmetric perfect fluid\n",
    "\n",
    "### To proceed further, we solve Einstein's field equations:\n",
    "\n",
    "$\n",
    "{\\displaystyle {\\frac {8\\pi G}{c^{4}}}T_{\\mu \\nu }=G_{\\mu \\nu }}$\n",
    "\n",
    "With $G_00$ component and ${\\displaystyle T_{0}^{0}=\\rho c^{2}}$ component, we can sub and integrate from 0-r to arrive to:\n",
    "\n",
    "\n",
    "${\\displaystyle e^{-\\lambda }=1-{\\frac {2Gm}{rc^{2}}}}$,\n",
    "\n",
    "where \n",
    "${\\textstyle m(r)} =  \\int_{0}^{r}4\\pi r'^{2}\\rho(r')\\,dr$\n",
    "\n",
    "\n",
    "Therefore,\n",
    "### TOV equation\n",
    "\n",
    "$\n",
    "{\\displaystyle {\\frac {dP}{dr}}=-{\\frac {G}{r^{2}}}\\left(\\rho +{\\frac {P}{c^{2}}}\\right)\\left(m+4\\pi r^{3}{\\frac {P}{c^{2}}}\\right)\\left(1-{\\frac {2Gm}{c^{2}r}}\\right)^{-1}}\n",
    "$\n",
    "\n",
    "\n",
    "### And, \n",
    "\n",
    "${\\displaystyle {\\frac {dm}{dr}}=4\\pi r^{2}\\rho }$"
   ]
  },
  {
   "cell_type": "code",
   "execution_count": 708,
   "id": "33afac07-6f23-498c-8412-57c0be381b2b",
   "metadata": {},
   "outputs": [],
   "source": [
    "###"
   ]
  },
  {
   "cell_type": "code",
   "execution_count": 709,
   "id": "4741f1d9-9b14-4904-b00d-4279de616ef5",
   "metadata": {},
   "outputs": [],
   "source": [
    "import numpy as np\n",
    "import matplotlib.pyplot as plt\n",
    "from scipy.integrate import solve_ivp, odeint"
   ]
  },
  {
   "cell_type": "code",
   "execution_count": 710,
   "id": "37f87676-8f63-43dc-a81f-86e24fea23db",
   "metadata": {},
   "outputs": [],
   "source": [
    "# Physical constants\n",
    "G = 6.67430e-11                      # m^3 / kg / s^2\n",
    "c = 3e8                              # m/s\n",
    "pi = np.pi\n",
    "\n",
    "# Polytropic EOS constants\n",
    "K = 3e-2   \n",
    "gamma = 2        "
   ]
  },
  {
   "cell_type": "markdown",
   "id": "5b904d97-9c82-4892-862d-76d3e809c46f",
   "metadata": {},
   "source": [
    "## From Polytrope equation γ ≃ 2\n",
    "$P = K\\rho^\\gamma$"
   ]
  },
  {
   "cell_type": "code",
   "execution_count": 711,
   "id": "db83bbbe-cbdd-4cb8-a8b2-011ddea10002",
   "metadata": {
    "tags": []
   },
   "outputs": [],
   "source": [
    "# TOV model of Presure and density\n",
    "def rho_from_P(P):\n",
    "    return (P / K) ** (1 / gamma)\n",
    "\n",
    "def P_from_rho(rho):\n",
    "    return K * rho ** gamma"
   ]
  },
  {
   "cell_type": "code",
   "execution_count": 712,
   "id": "ddfa6a93-5b32-44e6-a665-be9a0535dc1e",
   "metadata": {},
   "outputs": [],
   "source": [
    "# TOV equations\n",
    "def tov_equations(r, y):\n",
    "    P, m = y\n",
    "    if P <= 0.0001:\n",
    "        return [0, 0]                     # Stop integration when pressure tends to zero\n",
    "\n",
    "    rho = rho_from_P(P)\n",
    "\n",
    "    dPdr = - (G / r**2) * (rho + P / c**2) * (m + 4 * pi * r**3 * P / c**2) / (1 - 2 * G * m / (r * c**2))\n",
    "    dmdr = 4 * pi * r**2 * rho\n",
    "\n",
    "    return [dPdr, dmdr]"
   ]
  },
  {
   "cell_type": "code",
   "execution_count": 713,
   "id": "4a1bb5f5-defe-4ca4-bf9a-b46e7485f702",
   "metadata": {
    "tags": []
   },
   "outputs": [],
   "source": [
    "# Initial central density\n",
    "rho_c = 1e20                                \n",
    "\n",
    "# Initial central pressure\n",
    "P0 = P_from_rho(rho_c)\n",
    "\n",
    "# Initial mass and radius\n",
    "r0 = 1e-10                                     # from radius close to r=0 to avoid singularity\n",
    "m0 = 0                                       \n",
    "\n",
    "# Solve ODE\n",
    "r_max = 2e6                                       # maximum radius\n",
    "r_eval = np.linspace(r0, r_max, 10000)\n",
    "\n",
    "solution = solve_ivp(tov_equations, [r0, r_max], [P0, m0], t_eval= r_eval, method= 'RK45', rtol= 1e-6)"
   ]
  },
  {
   "cell_type": "code",
   "execution_count": 714,
   "id": "a044c45e-9a01-4c68-b140-a7a30a720faa",
   "metadata": {
    "tags": []
   },
   "outputs": [],
   "source": [
    "r = solution.t\n",
    "P = solution.y[0]\n",
    "M = solution.y[1]\n",
    "\n",
    "# Find where pressure drops to zero = surface\n",
    "surface_index = np.argmax(P <= 0)\n",
    "R_star = r[surface_index]\n",
    "M_star = M[surface_index]"
   ]
  },
  {
   "cell_type": "code",
   "execution_count": 715,
   "id": "a9a605a6-2e59-4d0e-8132-d83e81fe3c6e",
   "metadata": {
    "tags": []
   },
   "outputs": [
    {
     "data": {
      "text/plain": [
       "array([0.00000000e+00, 2.85754856e+27, 1.71443734e+28, 4.41539984e+28,\n",
       "       8.28649307e+28, 1.32262324e+29, 1.91453123e+29, 2.59623179e+29,\n",
       "       3.36007591e+29, 4.19874614e+29, 5.10517129e+29, 6.07248154e+29,\n",
       "       7.09398754e+29, 8.16316584e+29, 9.27366150e+29, 1.04192894e+30,\n",
       "       1.15940388e+30, 1.27920841e+30, 1.40077944e+30, 1.52357444e+30,\n",
       "       1.64707250e+30, 1.77077552e+30, 1.89420913e+30, 2.01692370e+30,\n",
       "       2.13849508e+30, 2.25852500e+30, 2.37664144e+30, 2.49249883e+30,\n",
       "       2.60577792e+30, 2.71618507e+30, 2.82345141e+30, 2.92733233e+30,\n",
       "       3.02760623e+30, 3.12407259e+30, 3.21655121e+30, 3.30488055e+30,\n",
       "       3.38891556e+30, 3.46852681e+30, 3.54359872e+30, 3.61402764e+30,\n",
       "       3.67972103e+30, 3.74059600e+30, 3.79657779e+30, 3.84759901e+30,\n",
       "       3.89359873e+30, 3.93452145e+30, 3.97031634e+30, 4.00093677e+30,\n",
       "       4.02633965e+30, 4.04648492e+30, 4.06133530e+30, 4.07085583e+30,\n",
       "       4.07501363e+30])"
      ]
     },
     "execution_count": 715,
     "metadata": {},
     "output_type": "execute_result"
    }
   ],
   "source": [
    "M"
   ]
  },
  {
   "cell_type": "code",
   "execution_count": 716,
   "id": "86291e76-b11a-4866-906b-aff8a2c326aa",
   "metadata": {
    "tags": []
   },
   "outputs": [
    {
     "name": "stdout",
     "output_type": "stream",
     "text": [
      "Final radius: 0.00 km\n",
      "Final mass:   0.00 M_sun\n"
     ]
    }
   ],
   "source": [
    "print(f\"Final radius: {R_star/1000:.2f} km\")\n",
    "print(f\"Final mass:   {M_star / 1.9885e30:.2f} M_sun\")         # convert to solar masses"
   ]
  },
  {
   "cell_type": "code",
   "execution_count": 717,
   "id": "dac8eee4-dde4-4761-b0cc-be7222a6e706",
   "metadata": {
    "tags": []
   },
   "outputs": [
    {
     "data": {
      "image/png": "[encoded data removed]",
      "text/plain": [
       "<Figure size 640x480 with 1 Axes>"
      ]
     },
     "metadata": {},
     "output_type": "display_data"
    }
   ],
   "source": [
    "plt.plot(r / 1000, M / 1.9885e30)                        # convert to solar masses\n",
    "plt.xlabel(\"Radius (km)\")\n",
    "plt.ylabel(\"Mass (M☉)\")\n",
    "plt.title(\"Mass-Radius Profile\")\n",
    "\n",
    "plt.grid()\n",
    "plt.show()"
   ]
  },
  {
   "cell_type": "code",
   "execution_count": 718,
   "id": "0275197a-48c2-420a-9c57-d0cc3036628c",
   "metadata": {},
   "outputs": [],
   "source": [
    "####"
   ]
  },
  {
   "cell_type": "code",
   "execution_count": 719,
   "id": "9f502bf6-ebc0-4d9d-96df-72f8c9ea5a4a",
   "metadata": {},
   "outputs": [],
   "source": [
    "####"
   ]
  }
 ],
 "metadata": {
  "kernelspec": {
   "display_name": "Python 3 (ipykernel)",
   "language": "python",
   "name": "python3"
  },
  "language_info": {
   "codemirror_mode": {
    "name": "ipython",
    "version": 3
   },
   "file_extension": ".py",
   "mimetype": "text/x-python",
   "name": "python",
   "nbconvert_exporter": "python",
   "pygments_lexer": "ipython3",
   "version": "3.11.5"
  }
 },
 "nbformat": 4,
 "nbformat_minor": 5
}
