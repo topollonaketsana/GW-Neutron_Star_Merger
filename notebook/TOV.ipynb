{
 "cells": [
  {
   "cell_type": "markdown",
   "id": "218648ab-561f-4805-b72c-bb2b40573ae6",
   "metadata": {},
   "source": [
    "## Studying the binary system of Neutron Star"
   ]
  },
  {
   "cell_type": "markdown",
   "id": "48c74af7-a853-4e7e-b862-0dfa86709bda",
   "metadata": {},
   "source": [
    "### TOV - before using Real Data"
   ]
  },
  {
   "cell_type": "markdown",
   "id": "c6dd8262-8e35-4863-9784-9ad0c40f6dd2",
   "metadata": {},
   "source": [
    "### The theory"
   ]
  },
  {
   "cell_type": "code",
   "execution_count": null,
   "id": "e2af7c5f-23f8-4804-b7a8-bd7238af24fd",
   "metadata": {},
   "outputs": [],
   "source": [
    "###"
   ]
  },
  {
   "cell_type": "code",
   "execution_count": null,
   "id": "8a1a3da2-f7ee-42d8-a23d-cef4a77d514f",
   "metadata": {},
   "outputs": [],
   "source": [
    "###"
   ]
  },
  {
   "cell_type": "code",
   "execution_count": null,
   "id": "33afac07-6f23-498c-8412-57c0be381b2b",
   "metadata": {},
   "outputs": [],
   "source": [
    "###"
   ]
  },
  {
   "cell_type": "code",
   "execution_count": null,
   "id": "4741f1d9-9b14-4904-b00d-4279de616ef5",
   "metadata": {},
   "outputs": [],
   "source": [
    "#####"
   ]
  },
  {
   "cell_type": "code",
   "execution_count": null,
   "id": "37f87676-8f63-43dc-a81f-86e24fea23db",
   "metadata": {},
   "outputs": [],
   "source": [
    "# Constants (SI)                 \n",
    "K  = 1e-2         \n",
    "gamma = 2.0\n",
    "\n",
    "# Constants \n",
    "G = 1           # Work in geometrized units:  G = c = 1\n",
    "c = 1\n",
    "M_sun = 1.98847e30\n",
    "km = 1e3         \n",
    "\n",
    "# Polytropic EOS parameters \n",
    "K =  1e-1\n",
    "gamma = 2.0"
   ]
  },
  {
   "cell_type": "code",
   "execution_count": null,
   "id": "6e44277f-78d8-4eb4-87c8-0bf1958f83b1",
   "metadata": {},
   "outputs": [],
   "source": [
    "####"
   ]
  },
  {
   "cell_type": "code",
   "execution_count": null,
   "id": "ddfa6a93-5b32-44e6-a665-be9a0535dc1e",
   "metadata": {},
   "outputs": [],
   "source": [
    "# TOV model of Presure and density\n",
    "def eos_pressure(rho):\n",
    "    return K * rho**gamma\n",
    "\n",
    "def eos_rho_from_P(P):\n",
    "    return (P / K) ** (1.0 / gamma)\n",
    "\n",
    "def tov_rhs(r, y):\n",
    "    P, m = y\n",
    "    if P <= 0:\n",
    "        return [0, 0]\n",
    "    rho = eos_rho_from_P(P)\n",
    "    dPdr = - (rho * c**2 + P) * (G * m + 4 * np.pi * G * P * r**3 / c**2) / (r * (r - 2 * G * m / c**2))\n",
    "    dmdr = 4 * np.pi * r**2 * rho\n",
    "    return [dPdr, dmdr]\n",
    "\n",
    "def integrate_star(rho_c):\n",
    "    P0 = eos_pressure(rho_c)\n",
    "    y0 = [P0, 0.0]\n",
    "    r0 = 1.0                    # start at 1 m to avoid singularity\n",
    "    r_max = 2e6                   # integrate up to 2000 km\n",
    "    \n",
    "    sol = solve_ivp(tov_rhs, (r0, r_max), y0, max_step= 100.0, dense_output= True, events= lambda r, y: y[0])\n",
    "    R = sol.t_events[0][0] if sol.t_events[0].size>0 else sol.t[-1]\n",
    "    M = sol.y[1][-1]\n",
    "    return R, M"
   ]
  },
  {
   "cell_type": "code",
   "execution_count": null,
   "id": "0275197a-48c2-420a-9c57-d0cc3036628c",
   "metadata": {},
   "outputs": [],
   "source": [
    "####"
   ]
  },
  {
   "cell_type": "code",
   "execution_count": null,
   "id": "a4c15fa5-f75b-4a98-87c0-28ef82d7261b",
   "metadata": {},
   "outputs": [],
   "source": [
    "central_rhos = np.logspace(17, 18.5, 20)       # kg m^-3\n",
    "R_list= []; M_list= []\n",
    "\n",
    "for rho_c in central_rhos:\n",
    "    R, M = integrate_star(rho_c)\n",
    "    R_km = R / km\n",
    "    M_sun = M / Msun\n",
    "    R_list.append(R_km)\n",
    "    M_list.append(M_sun)"
   ]
  },
  {
   "cell_type": "code",
   "execution_count": null,
   "id": "9f502bf6-ebc0-4d9d-96df-72f8c9ea5a4a",
   "metadata": {},
   "outputs": [],
   "source": [
    "####"
   ]
  },
  {
   "cell_type": "code",
   "execution_count": null,
   "id": "0aaaf031-65da-40ba-bbaa-d22e115fd9b6",
   "metadata": {},
   "outputs": [],
   "source": [
    "plt.figure(figsize= (7,5))\n",
    "plt.plot(M_list, R_list, marker= 'o')\n",
    "plt.xlabel(\"Radius (km)\")\n",
    "plt.ylabel(\"Mass (solar mass)\")\n",
    "plt.title(\"Mass–Radius curve (polytropic γ=2)\")\n",
    "plt.grid(True)\n",
    "plt.show()"
   ]
  },
  {
   "cell_type": "code",
   "execution_count": null,
   "id": "0d58a54b-ab9b-4e63-b6ea-954b05144447",
   "metadata": {},
   "outputs": [],
   "source": []
  },
  {
   "cell_type": "code",
   "execution_count": null,
   "id": "0a86a4a8-e009-4e74-8bc9-2a9e3ccb1e6c",
   "metadata": {},
   "outputs": [],
   "source": []
  }
 ],
 "metadata": {
  "kernelspec": {
   "display_name": "Python 3 (ipykernel)",
   "language": "python",
   "name": "python3"
  },
  "language_info": {
   "codemirror_mode": {
    "name": "ipython",
    "version": 3
   },
   "file_extension": ".py",
   "mimetype": "text/x-python",
   "name": "python",
   "nbconvert_exporter": "python",
   "pygments_lexer": "ipython3",
   "version": "3.11.5"
  }
 },
 "nbformat": 4,
 "nbformat_minor": 5
}
